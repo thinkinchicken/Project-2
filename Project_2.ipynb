{
  "nbformat": 4,
  "nbformat_minor": 0,
  "metadata": {
    "colab": {
      "name": "Project_2.ipynb",
      "provenance": [],
      "collapsed_sections": [],
      "mount_file_id": "1h0D33-WLKmB95_eDtx_T_WKJ_u2qrO3g",
      "authorship_tag": "ABX9TyMXWMqjSB9VZPcpHM2B+C/b",
      "include_colab_link": true
    },
    "kernelspec": {
      "name": "python3",
      "display_name": "Python 3"
    },
    "language_info": {
      "name": "python"
    }
  },
  "cells": [
    {
      "cell_type": "markdown",
      "metadata": {
        "id": "view-in-github",
        "colab_type": "text"
      },
      "source": [
        "<a href=\"https://colab.research.google.com/github/thinkinchicken/Project-2/blob/main/Project_2.ipynb\" target=\"_parent\"><img src=\"https://colab.research.google.com/assets/colab-badge.svg\" alt=\"Open In Colab\"/></a>"
      ]
    },
    {
      "cell_type": "markdown",
      "metadata": {
        "id": "lrh-NZ44Dfga"
      },
      "source": [
        "##Part 1: Selecting a dataset"
      ]
    },
    {
      "cell_type": "code",
      "metadata": {
        "colab": {
          "base_uri": "https://localhost:8080/"
        },
        "id": "Ih-jgAiZJse5",
        "outputId": "f4482acc-0573-4915-fb87-148f0f9daa7a"
      },
      "source": [
        "from google.colab import drive\n",
        "drive.mount('/content/drive')"
      ],
      "execution_count": 1,
      "outputs": [
        {
          "output_type": "stream",
          "name": "stdout",
          "text": [
            "Drive already mounted at /content/drive; to attempt to forcibly remount, call drive.mount(\"/content/drive\", force_remount=True).\n"
          ]
        }
      ]
    },
    {
      "cell_type": "code",
      "metadata": {
        "id": "zuyPIclnaHmV"
      },
      "source": [
        "import pandas as pd\n",
        "import numpy as np\n",
        "import seaborn as sns\n",
        "import matplotlib.pyplot as plt\n",
        "\n"
      ],
      "execution_count": 2,
      "outputs": []
    },
    {
      "cell_type": "markdown",
      "metadata": {
        "id": "jwRRe-JphN1U"
      },
      "source": [
        "First Choice: Data set\n",
        "\n",
        "1) Source of Data: Kaggle\n",
        "\n",
        "2) 1700 individual chocolate bar ratings, regional origin, percentage of coca, and variety of chocolate bean, and region of where they were grown. \n",
        "\n",
        "3) Target is the rating of the chocolate bar\n",
        "\n",
        "4) This is a regression problem. \n",
        "\n",
        "5) 8 features\n",
        "\n",
        "6) 1795 rows\n",
        "\n",
        "7) Challenges is some columns have null values for certain features. May need some extra cleaning \n"
      ]
    },
    {
      "cell_type": "code",
      "metadata": {
        "colab": {
          "base_uri": "https://localhost:8080/"
        },
        "id": "Ja4JpJuhhMep",
        "outputId": "107f27d1-38c5-4ee8-f872-6bb0b3fe53d2"
      },
      "source": [
        "df = pd.read_csv('/content/drive/MyDrive/Colab Notebooks/07 Week 7: Classification Models/flavors_of_cacao.csv', header = 0)\n",
        "df.shape"
      ],
      "execution_count": 3,
      "outputs": [
        {
          "output_type": "execute_result",
          "data": {
            "text/plain": [
              "(1795, 9)"
            ]
          },
          "metadata": {},
          "execution_count": 3
        }
      ]
    },
    {
      "cell_type": "code",
      "metadata": {
        "colab": {
          "base_uri": "https://localhost:8080/"
        },
        "id": "UnF3UkERh6e0",
        "outputId": "6deeee07-84ac-437a-f6f5-0f533504d0ac"
      },
      "source": [
        "df.head()\n",
        "df['Bean\\nType'].value_counts()"
      ],
      "execution_count": 4,
      "outputs": [
        {
          "output_type": "execute_result",
          "data": {
            "text/plain": [
              "                            887\n",
              "Trinitario                  419\n",
              "Criollo                     153\n",
              "Forastero                    87\n",
              "Forastero (Nacional)         52\n",
              "Blend                        41\n",
              "Criollo, Trinitario          39\n",
              "Forastero (Arriba)           37\n",
              "Criollo (Porcelana)          10\n",
              "Trinitario, Criollo           9\n",
              "Forastero (Parazinho)         8\n",
              "Forastero (Arriba) ASS        6\n",
              "EET                           3\n",
              "Nacional (Arriba)             3\n",
              "Matina                        3\n",
              "Beniano                       3\n",
              "Trinitario, Forastero         2\n",
              "Forastero (Catongo)           2\n",
              "Amazon mix                    2\n",
              "Trinitario (85% Criollo)      2\n",
              "Criollo, Forastero            2\n",
              "Nacional                      2\n",
              "Criollo (Ocumare 61)          2\n",
              "Criollo (Amarru)              2\n",
              "Amazon, ICS                   2\n",
              "Trinitario (Amelonado)        1\n",
              "Trinitario, TCGA              1\n",
              "Criollo (Ocumare)             1\n",
              "Forastero (Arriba) ASSS       1\n",
              "Blend-Forastero,Criollo       1\n",
              "Criollo (Wild)                1\n",
              "Trinitario (Scavina)          1\n",
              "Forastero (Amelonado)         1\n",
              "Forastero, Trinitario         1\n",
              "CCN51                         1\n",
              "Trinitario, Nacional          1\n",
              "Criollo, +                    1\n",
              "Forastero(Arriba, CCN)        1\n",
              "Criollo (Ocumare 77)          1\n",
              "Criollo (Ocumare 67)          1\n",
              "Amazon                        1\n",
              "Name: Bean\\nType, dtype: int64"
            ]
          },
          "metadata": {},
          "execution_count": 4
        }
      ]
    },
    {
      "cell_type": "markdown",
      "metadata": {
        "id": "PGX9EMEafG8U"
      },
      "source": [
        "Second Choice: Data set 2\n",
        "\n",
        "1) Source of Data: Kaggle\n",
        "\n",
        "2) Data includes country, locality, market, goods purchased, price, currency used, quantity, and month/year of purchase of food prices worldwide\n",
        "\n",
        "3) Target is the price of the food\n",
        "\n",
        "4) This is a regression problem\n",
        "\n",
        "5) 10 features\n",
        "\n",
        "6) 743914 rows of data\n",
        "\n",
        "7) Challenges I foresee is that the dataset may need extra cleaning and there are also a lot of features that are necessarily numerical. \n",
        "It is a very large dataset that may also take a lot of time to train and test on. "
      ]
    },
    {
      "cell_type": "code",
      "metadata": {
        "colab": {
          "base_uri": "https://localhost:8080/",
          "height": 203
        },
        "id": "HBUWIvH1ev80",
        "outputId": "b82b4572-a032-4a78-dda0-b6c66abcba30"
      },
      "source": [
        "df2 = pd.read_csv('/content/drive/MyDrive/Colab Notebooks/07 Week 7: Classification Models/wfp_market_food_prices.csv',encoding='latin-1')\n",
        "df2.head()\n"
      ],
      "execution_count": 5,
      "outputs": [
        {
          "output_type": "execute_result",
          "data": {
            "text/html": [
              "<div>\n",
              "<style scoped>\n",
              "    .dataframe tbody tr th:only-of-type {\n",
              "        vertical-align: middle;\n",
              "    }\n",
              "\n",
              "    .dataframe tbody tr th {\n",
              "        vertical-align: top;\n",
              "    }\n",
              "\n",
              "    .dataframe thead th {\n",
              "        text-align: right;\n",
              "    }\n",
              "</style>\n",
              "<table border=\"1\" class=\"dataframe\">\n",
              "  <thead>\n",
              "    <tr style=\"text-align: right;\">\n",
              "      <th></th>\n",
              "      <th>adm0_id</th>\n",
              "      <th>adm0_name</th>\n",
              "      <th>adm1_id</th>\n",
              "      <th>adm1_name</th>\n",
              "      <th>mkt_id</th>\n",
              "      <th>mkt_name</th>\n",
              "      <th>cm_id</th>\n",
              "      <th>cm_name</th>\n",
              "      <th>cur_id</th>\n",
              "      <th>cur_name</th>\n",
              "      <th>pt_id</th>\n",
              "      <th>pt_name</th>\n",
              "      <th>um_id</th>\n",
              "      <th>um_name</th>\n",
              "      <th>mp_month</th>\n",
              "      <th>mp_year</th>\n",
              "      <th>mp_price</th>\n",
              "      <th>mp_commoditysource</th>\n",
              "    </tr>\n",
              "  </thead>\n",
              "  <tbody>\n",
              "    <tr>\n",
              "      <th>0</th>\n",
              "      <td>1</td>\n",
              "      <td>Afghanistan</td>\n",
              "      <td>272</td>\n",
              "      <td>Badakhshan</td>\n",
              "      <td>266</td>\n",
              "      <td>Fayzabad</td>\n",
              "      <td>55</td>\n",
              "      <td>Bread</td>\n",
              "      <td>87</td>\n",
              "      <td>AFN</td>\n",
              "      <td>15</td>\n",
              "      <td>Retail</td>\n",
              "      <td>5</td>\n",
              "      <td>KG</td>\n",
              "      <td>1</td>\n",
              "      <td>2014</td>\n",
              "      <td>50.0</td>\n",
              "      <td>WFP</td>\n",
              "    </tr>\n",
              "    <tr>\n",
              "      <th>1</th>\n",
              "      <td>1</td>\n",
              "      <td>Afghanistan</td>\n",
              "      <td>272</td>\n",
              "      <td>Badakhshan</td>\n",
              "      <td>266</td>\n",
              "      <td>Fayzabad</td>\n",
              "      <td>55</td>\n",
              "      <td>Bread</td>\n",
              "      <td>87</td>\n",
              "      <td>AFN</td>\n",
              "      <td>15</td>\n",
              "      <td>Retail</td>\n",
              "      <td>5</td>\n",
              "      <td>KG</td>\n",
              "      <td>2</td>\n",
              "      <td>2014</td>\n",
              "      <td>50.0</td>\n",
              "      <td>WFP</td>\n",
              "    </tr>\n",
              "    <tr>\n",
              "      <th>2</th>\n",
              "      <td>1</td>\n",
              "      <td>Afghanistan</td>\n",
              "      <td>272</td>\n",
              "      <td>Badakhshan</td>\n",
              "      <td>266</td>\n",
              "      <td>Fayzabad</td>\n",
              "      <td>55</td>\n",
              "      <td>Bread</td>\n",
              "      <td>87</td>\n",
              "      <td>AFN</td>\n",
              "      <td>15</td>\n",
              "      <td>Retail</td>\n",
              "      <td>5</td>\n",
              "      <td>KG</td>\n",
              "      <td>3</td>\n",
              "      <td>2014</td>\n",
              "      <td>50.0</td>\n",
              "      <td>WFP</td>\n",
              "    </tr>\n",
              "    <tr>\n",
              "      <th>3</th>\n",
              "      <td>1</td>\n",
              "      <td>Afghanistan</td>\n",
              "      <td>272</td>\n",
              "      <td>Badakhshan</td>\n",
              "      <td>266</td>\n",
              "      <td>Fayzabad</td>\n",
              "      <td>55</td>\n",
              "      <td>Bread</td>\n",
              "      <td>87</td>\n",
              "      <td>AFN</td>\n",
              "      <td>15</td>\n",
              "      <td>Retail</td>\n",
              "      <td>5</td>\n",
              "      <td>KG</td>\n",
              "      <td>4</td>\n",
              "      <td>2014</td>\n",
              "      <td>50.0</td>\n",
              "      <td>WFP</td>\n",
              "    </tr>\n",
              "    <tr>\n",
              "      <th>4</th>\n",
              "      <td>1</td>\n",
              "      <td>Afghanistan</td>\n",
              "      <td>272</td>\n",
              "      <td>Badakhshan</td>\n",
              "      <td>266</td>\n",
              "      <td>Fayzabad</td>\n",
              "      <td>55</td>\n",
              "      <td>Bread</td>\n",
              "      <td>87</td>\n",
              "      <td>AFN</td>\n",
              "      <td>15</td>\n",
              "      <td>Retail</td>\n",
              "      <td>5</td>\n",
              "      <td>KG</td>\n",
              "      <td>5</td>\n",
              "      <td>2014</td>\n",
              "      <td>50.0</td>\n",
              "      <td>WFP</td>\n",
              "    </tr>\n",
              "  </tbody>\n",
              "</table>\n",
              "</div>"
            ],
            "text/plain": [
              "   adm0_id    adm0_name  adm1_id  ... mp_year  mp_price mp_commoditysource\n",
              "0        1  Afghanistan      272  ...    2014      50.0                WFP\n",
              "1        1  Afghanistan      272  ...    2014      50.0                WFP\n",
              "2        1  Afghanistan      272  ...    2014      50.0                WFP\n",
              "3        1  Afghanistan      272  ...    2014      50.0                WFP\n",
              "4        1  Afghanistan      272  ...    2014      50.0                WFP\n",
              "\n",
              "[5 rows x 18 columns]"
            ]
          },
          "metadata": {},
          "execution_count": 5
        }
      ]
    },
    {
      "cell_type": "code",
      "metadata": {
        "colab": {
          "base_uri": "https://localhost:8080/"
        },
        "id": "BWJpZ0p6kHbl",
        "outputId": "01fc2193-fe7e-4c68-aeb8-30518220de58"
      },
      "source": [
        "df2.shape"
      ],
      "execution_count": 6,
      "outputs": [
        {
          "output_type": "execute_result",
          "data": {
            "text/plain": [
              "(743914, 18)"
            ]
          },
          "metadata": {},
          "execution_count": 6
        }
      ]
    },
    {
      "cell_type": "markdown",
      "metadata": {
        "id": "VjnhcRe5DTMw"
      },
      "source": [
        "Flavors of cacao dataset has been approved!\n"
      ]
    },
    {
      "cell_type": "markdown",
      "metadata": {
        "id": "BNJMte62Djjs"
      },
      "source": [
        "##Part 2: Cleaning the dataset"
      ]
    },
    {
      "cell_type": "code",
      "metadata": {
        "id": "DeQl-Rnbkkdj",
        "colab": {
          "base_uri": "https://localhost:8080/",
          "height": 203
        },
        "outputId": "b747c45f-b7b6-4be0-fe19-a3f456145458"
      },
      "source": [
        "df.head()\n"
      ],
      "execution_count": 7,
      "outputs": [
        {
          "output_type": "execute_result",
          "data": {
            "text/html": [
              "<div>\n",
              "<style scoped>\n",
              "    .dataframe tbody tr th:only-of-type {\n",
              "        vertical-align: middle;\n",
              "    }\n",
              "\n",
              "    .dataframe tbody tr th {\n",
              "        vertical-align: top;\n",
              "    }\n",
              "\n",
              "    .dataframe thead th {\n",
              "        text-align: right;\n",
              "    }\n",
              "</style>\n",
              "<table border=\"1\" class=\"dataframe\">\n",
              "  <thead>\n",
              "    <tr style=\"text-align: right;\">\n",
              "      <th></th>\n",
              "      <th>Company \\n(Maker-if known)</th>\n",
              "      <th>Specific Bean Origin\\nor Bar Name</th>\n",
              "      <th>REF</th>\n",
              "      <th>Review\\nDate</th>\n",
              "      <th>Cocoa\\nPercent</th>\n",
              "      <th>Company\\nLocation</th>\n",
              "      <th>Rating</th>\n",
              "      <th>Bean\\nType</th>\n",
              "      <th>Broad Bean\\nOrigin</th>\n",
              "    </tr>\n",
              "  </thead>\n",
              "  <tbody>\n",
              "    <tr>\n",
              "      <th>0</th>\n",
              "      <td>A. Morin</td>\n",
              "      <td>Agua Grande</td>\n",
              "      <td>1876</td>\n",
              "      <td>2016</td>\n",
              "      <td>63%</td>\n",
              "      <td>France</td>\n",
              "      <td>3.75</td>\n",
              "      <td></td>\n",
              "      <td>Sao Tome</td>\n",
              "    </tr>\n",
              "    <tr>\n",
              "      <th>1</th>\n",
              "      <td>A. Morin</td>\n",
              "      <td>Kpime</td>\n",
              "      <td>1676</td>\n",
              "      <td>2015</td>\n",
              "      <td>70%</td>\n",
              "      <td>France</td>\n",
              "      <td>2.75</td>\n",
              "      <td></td>\n",
              "      <td>Togo</td>\n",
              "    </tr>\n",
              "    <tr>\n",
              "      <th>2</th>\n",
              "      <td>A. Morin</td>\n",
              "      <td>Atsane</td>\n",
              "      <td>1676</td>\n",
              "      <td>2015</td>\n",
              "      <td>70%</td>\n",
              "      <td>France</td>\n",
              "      <td>3.00</td>\n",
              "      <td></td>\n",
              "      <td>Togo</td>\n",
              "    </tr>\n",
              "    <tr>\n",
              "      <th>3</th>\n",
              "      <td>A. Morin</td>\n",
              "      <td>Akata</td>\n",
              "      <td>1680</td>\n",
              "      <td>2015</td>\n",
              "      <td>70%</td>\n",
              "      <td>France</td>\n",
              "      <td>3.50</td>\n",
              "      <td></td>\n",
              "      <td>Togo</td>\n",
              "    </tr>\n",
              "    <tr>\n",
              "      <th>4</th>\n",
              "      <td>A. Morin</td>\n",
              "      <td>Quilla</td>\n",
              "      <td>1704</td>\n",
              "      <td>2015</td>\n",
              "      <td>70%</td>\n",
              "      <td>France</td>\n",
              "      <td>3.50</td>\n",
              "      <td></td>\n",
              "      <td>Peru</td>\n",
              "    </tr>\n",
              "  </tbody>\n",
              "</table>\n",
              "</div>"
            ],
            "text/plain": [
              "  Company \\n(Maker-if known)  ... Broad Bean\\nOrigin\n",
              "0                   A. Morin  ...           Sao Tome\n",
              "1                   A. Morin  ...               Togo\n",
              "2                   A. Morin  ...               Togo\n",
              "3                   A. Morin  ...               Togo\n",
              "4                   A. Morin  ...               Peru\n",
              "\n",
              "[5 rows x 9 columns]"
            ]
          },
          "metadata": {},
          "execution_count": 7
        }
      ]
    },
    {
      "cell_type": "code",
      "metadata": {
        "id": "moIuuVwBECmN"
      },
      "source": [
        "#Renaming all the columns to be more readable and getting rid of some of the weird characters in each of them\n",
        "df = df.rename(columns = {'Specific Bean Origin\\nor Bar Name':'Specific_Bean_Origin_Bar_Name', 'Review\\nDate':'Review_Date', 'Cocoa\\nPercent':'Cocoa_percent','Company\\nLocation':'Company_location', 'Bean\\nType':'Bean_type', 'Broad Bean\\nOrigin': 'Broad_Bean_Origin'})"
      ],
      "execution_count": 8,
      "outputs": []
    },
    {
      "cell_type": "code",
      "metadata": {
        "id": "i7qNUkS9IEPV"
      },
      "source": [
        "#Renaming the first column because the first time didn't work\n",
        "df = df.rename(columns={ df.columns[0]: 'Company(Maker)' })"
      ],
      "execution_count": 9,
      "outputs": []
    },
    {
      "cell_type": "code",
      "metadata": {
        "colab": {
          "base_uri": "https://localhost:8080/",
          "height": 203
        },
        "id": "IGMeMO4lByRO",
        "outputId": "be7aa00f-f2f0-4e10-d4b1-bd0a0f3da59b"
      },
      "source": [
        "#Checking if the renaming worked\n",
        "df.head()"
      ],
      "execution_count": 10,
      "outputs": [
        {
          "output_type": "execute_result",
          "data": {
            "text/html": [
              "<div>\n",
              "<style scoped>\n",
              "    .dataframe tbody tr th:only-of-type {\n",
              "        vertical-align: middle;\n",
              "    }\n",
              "\n",
              "    .dataframe tbody tr th {\n",
              "        vertical-align: top;\n",
              "    }\n",
              "\n",
              "    .dataframe thead th {\n",
              "        text-align: right;\n",
              "    }\n",
              "</style>\n",
              "<table border=\"1\" class=\"dataframe\">\n",
              "  <thead>\n",
              "    <tr style=\"text-align: right;\">\n",
              "      <th></th>\n",
              "      <th>Company(Maker)</th>\n",
              "      <th>Specific_Bean_Origin_Bar_Name</th>\n",
              "      <th>REF</th>\n",
              "      <th>Review_Date</th>\n",
              "      <th>Cocoa_percent</th>\n",
              "      <th>Company_location</th>\n",
              "      <th>Rating</th>\n",
              "      <th>Bean_type</th>\n",
              "      <th>Broad_Bean_Origin</th>\n",
              "    </tr>\n",
              "  </thead>\n",
              "  <tbody>\n",
              "    <tr>\n",
              "      <th>0</th>\n",
              "      <td>A. Morin</td>\n",
              "      <td>Agua Grande</td>\n",
              "      <td>1876</td>\n",
              "      <td>2016</td>\n",
              "      <td>63%</td>\n",
              "      <td>France</td>\n",
              "      <td>3.75</td>\n",
              "      <td></td>\n",
              "      <td>Sao Tome</td>\n",
              "    </tr>\n",
              "    <tr>\n",
              "      <th>1</th>\n",
              "      <td>A. Morin</td>\n",
              "      <td>Kpime</td>\n",
              "      <td>1676</td>\n",
              "      <td>2015</td>\n",
              "      <td>70%</td>\n",
              "      <td>France</td>\n",
              "      <td>2.75</td>\n",
              "      <td></td>\n",
              "      <td>Togo</td>\n",
              "    </tr>\n",
              "    <tr>\n",
              "      <th>2</th>\n",
              "      <td>A. Morin</td>\n",
              "      <td>Atsane</td>\n",
              "      <td>1676</td>\n",
              "      <td>2015</td>\n",
              "      <td>70%</td>\n",
              "      <td>France</td>\n",
              "      <td>3.00</td>\n",
              "      <td></td>\n",
              "      <td>Togo</td>\n",
              "    </tr>\n",
              "    <tr>\n",
              "      <th>3</th>\n",
              "      <td>A. Morin</td>\n",
              "      <td>Akata</td>\n",
              "      <td>1680</td>\n",
              "      <td>2015</td>\n",
              "      <td>70%</td>\n",
              "      <td>France</td>\n",
              "      <td>3.50</td>\n",
              "      <td></td>\n",
              "      <td>Togo</td>\n",
              "    </tr>\n",
              "    <tr>\n",
              "      <th>4</th>\n",
              "      <td>A. Morin</td>\n",
              "      <td>Quilla</td>\n",
              "      <td>1704</td>\n",
              "      <td>2015</td>\n",
              "      <td>70%</td>\n",
              "      <td>France</td>\n",
              "      <td>3.50</td>\n",
              "      <td></td>\n",
              "      <td>Peru</td>\n",
              "    </tr>\n",
              "  </tbody>\n",
              "</table>\n",
              "</div>"
            ],
            "text/plain": [
              "  Company(Maker) Specific_Bean_Origin_Bar_Name  ...  Bean_type  Broad_Bean_Origin\n",
              "0       A. Morin                   Agua Grande  ...                      Sao Tome\n",
              "1       A. Morin                         Kpime  ...                          Togo\n",
              "2       A. Morin                        Atsane  ...                          Togo\n",
              "3       A. Morin                         Akata  ...                          Togo\n",
              "4       A. Morin                        Quilla  ...                          Peru\n",
              "\n",
              "[5 rows x 9 columns]"
            ]
          },
          "metadata": {},
          "execution_count": 10
        }
      ]
    },
    {
      "cell_type": "code",
      "metadata": {
        "colab": {
          "base_uri": "https://localhost:8080/"
        },
        "id": "n1EnyxtbEPx7",
        "outputId": "efbbf298-ed26-4c78-cae3-4ee9021e253b"
      },
      "source": [
        "#checking for null values, We see that there are 2 in both bean type and broad bean origin\n",
        "df.info()"
      ],
      "execution_count": 11,
      "outputs": [
        {
          "output_type": "stream",
          "name": "stdout",
          "text": [
            "<class 'pandas.core.frame.DataFrame'>\n",
            "RangeIndex: 1795 entries, 0 to 1794\n",
            "Data columns (total 9 columns):\n",
            " #   Column                         Non-Null Count  Dtype  \n",
            "---  ------                         --------------  -----  \n",
            " 0   Company(Maker)                 1795 non-null   object \n",
            " 1   Specific_Bean_Origin_Bar_Name  1795 non-null   object \n",
            " 2   REF                            1795 non-null   int64  \n",
            " 3   Review_Date                    1795 non-null   int64  \n",
            " 4   Cocoa_percent                  1795 non-null   object \n",
            " 5   Company_location               1795 non-null   object \n",
            " 6   Rating                         1795 non-null   float64\n",
            " 7   Bean_type                      1794 non-null   object \n",
            " 8   Broad_Bean_Origin              1794 non-null   object \n",
            "dtypes: float64(1), int64(2), object(6)\n",
            "memory usage: 126.3+ KB\n"
          ]
        }
      ]
    },
    {
      "cell_type": "code",
      "metadata": {
        "colab": {
          "base_uri": "https://localhost:8080/",
          "height": 110
        },
        "id": "aZaCHprIFzjs",
        "outputId": "795869d2-3971-4644-8762-1ed29decde22"
      },
      "source": [
        "#Checking the specific on these null values\n",
        "df[df.isnull().any(axis=1)]"
      ],
      "execution_count": 12,
      "outputs": [
        {
          "output_type": "execute_result",
          "data": {
            "text/html": [
              "<div>\n",
              "<style scoped>\n",
              "    .dataframe tbody tr th:only-of-type {\n",
              "        vertical-align: middle;\n",
              "    }\n",
              "\n",
              "    .dataframe tbody tr th {\n",
              "        vertical-align: top;\n",
              "    }\n",
              "\n",
              "    .dataframe thead th {\n",
              "        text-align: right;\n",
              "    }\n",
              "</style>\n",
              "<table border=\"1\" class=\"dataframe\">\n",
              "  <thead>\n",
              "    <tr style=\"text-align: right;\">\n",
              "      <th></th>\n",
              "      <th>Company(Maker)</th>\n",
              "      <th>Specific_Bean_Origin_Bar_Name</th>\n",
              "      <th>REF</th>\n",
              "      <th>Review_Date</th>\n",
              "      <th>Cocoa_percent</th>\n",
              "      <th>Company_location</th>\n",
              "      <th>Rating</th>\n",
              "      <th>Bean_type</th>\n",
              "      <th>Broad_Bean_Origin</th>\n",
              "    </tr>\n",
              "  </thead>\n",
              "  <tbody>\n",
              "    <tr>\n",
              "      <th>1072</th>\n",
              "      <td>Mast Brothers</td>\n",
              "      <td>Madagascar</td>\n",
              "      <td>999</td>\n",
              "      <td>2012</td>\n",
              "      <td>72%</td>\n",
              "      <td>U.S.A.</td>\n",
              "      <td>2.5</td>\n",
              "      <td>Trinitario</td>\n",
              "      <td>NaN</td>\n",
              "    </tr>\n",
              "    <tr>\n",
              "      <th>1544</th>\n",
              "      <td>Soma</td>\n",
              "      <td>Three Amigos(Chuao, Wild Bolivia, D.R.)</td>\n",
              "      <td>676</td>\n",
              "      <td>2011</td>\n",
              "      <td>70%</td>\n",
              "      <td>Canada</td>\n",
              "      <td>4.0</td>\n",
              "      <td>NaN</td>\n",
              "      <td>Ven, Bolivia, D.R.</td>\n",
              "    </tr>\n",
              "  </tbody>\n",
              "</table>\n",
              "</div>"
            ],
            "text/plain": [
              "     Company(Maker)  ...   Broad_Bean_Origin\n",
              "1072  Mast Brothers  ...                 NaN\n",
              "1544           Soma  ...  Ven, Bolivia, D.R.\n",
              "\n",
              "[2 rows x 9 columns]"
            ]
          },
          "metadata": {},
          "execution_count": 12
        }
      ]
    },
    {
      "cell_type": "code",
      "metadata": {
        "id": "0TwV4aWZF4Na"
      },
      "source": [
        "#Deciding to drop the null values as they are not a simple fix of imputing or backfilling and it is only 2 data points\n",
        "df = df.dropna()"
      ],
      "execution_count": 13,
      "outputs": []
    },
    {
      "cell_type": "code",
      "metadata": {
        "colab": {
          "base_uri": "https://localhost:8080/"
        },
        "id": "pfVLmuopIqQr",
        "outputId": "be04baf5-bde4-4ba1-ea43-a9263527ad30"
      },
      "source": [
        "#checking to see if removing null values worked\n",
        "df.info()"
      ],
      "execution_count": 14,
      "outputs": [
        {
          "output_type": "stream",
          "name": "stdout",
          "text": [
            "<class 'pandas.core.frame.DataFrame'>\n",
            "Int64Index: 1793 entries, 0 to 1794\n",
            "Data columns (total 9 columns):\n",
            " #   Column                         Non-Null Count  Dtype  \n",
            "---  ------                         --------------  -----  \n",
            " 0   Company(Maker)                 1793 non-null   object \n",
            " 1   Specific_Bean_Origin_Bar_Name  1793 non-null   object \n",
            " 2   REF                            1793 non-null   int64  \n",
            " 3   Review_Date                    1793 non-null   int64  \n",
            " 4   Cocoa_percent                  1793 non-null   object \n",
            " 5   Company_location               1793 non-null   object \n",
            " 6   Rating                         1793 non-null   float64\n",
            " 7   Bean_type                      1793 non-null   object \n",
            " 8   Broad_Bean_Origin              1793 non-null   object \n",
            "dtypes: float64(1), int64(2), object(6)\n",
            "memory usage: 140.1+ KB\n"
          ]
        }
      ]
    },
    {
      "cell_type": "code",
      "metadata": {
        "colab": {
          "base_uri": "https://localhost:8080/"
        },
        "id": "jqiS13omIroI",
        "outputId": "627f53e8-909e-4abd-aef1-140b28375300"
      },
      "source": [
        "#Checking for duplicated values. Looks like there isn't any\n",
        "df.duplicated().any()"
      ],
      "execution_count": 15,
      "outputs": [
        {
          "output_type": "execute_result",
          "data": {
            "text/plain": [
              "False"
            ]
          },
          "metadata": {},
          "execution_count": 15
        }
      ]
    },
    {
      "cell_type": "code",
      "metadata": {
        "colab": {
          "base_uri": "https://localhost:8080/"
        },
        "id": "1PUFvMdIcign",
        "outputId": "b8c7e104-8b8d-4ac8-c50e-2b96f746714d"
      },
      "source": [
        "df['REF'].nunique()\n",
        "#Looking at the data dictionary, this value is an index for the date the review was actually done"
      ],
      "execution_count": 16,
      "outputs": [
        {
          "output_type": "execute_result",
          "data": {
            "text/plain": [
              "440"
            ]
          },
          "metadata": {},
          "execution_count": 16
        }
      ]
    },
    {
      "cell_type": "code",
      "metadata": {
        "id": "DWS186jMcuei"
      },
      "source": [
        "#The date the Review was published does not seem relevant to the rating of the actual chocolate bar so going to remove that column\n",
        "df = df.drop(columns = 'Review_Date')\n"
      ],
      "execution_count": 17,
      "outputs": []
    },
    {
      "cell_type": "code",
      "metadata": {
        "colab": {
          "base_uri": "https://localhost:8080/",
          "height": 203
        },
        "id": "8KkdnvN2ltYk",
        "outputId": "24caabc2-c139-42d4-93ab-ef63c44bb5ff"
      },
      "source": [
        "df.head()"
      ],
      "execution_count": 18,
      "outputs": [
        {
          "output_type": "execute_result",
          "data": {
            "text/html": [
              "<div>\n",
              "<style scoped>\n",
              "    .dataframe tbody tr th:only-of-type {\n",
              "        vertical-align: middle;\n",
              "    }\n",
              "\n",
              "    .dataframe tbody tr th {\n",
              "        vertical-align: top;\n",
              "    }\n",
              "\n",
              "    .dataframe thead th {\n",
              "        text-align: right;\n",
              "    }\n",
              "</style>\n",
              "<table border=\"1\" class=\"dataframe\">\n",
              "  <thead>\n",
              "    <tr style=\"text-align: right;\">\n",
              "      <th></th>\n",
              "      <th>Company(Maker)</th>\n",
              "      <th>Specific_Bean_Origin_Bar_Name</th>\n",
              "      <th>REF</th>\n",
              "      <th>Cocoa_percent</th>\n",
              "      <th>Company_location</th>\n",
              "      <th>Rating</th>\n",
              "      <th>Bean_type</th>\n",
              "      <th>Broad_Bean_Origin</th>\n",
              "    </tr>\n",
              "  </thead>\n",
              "  <tbody>\n",
              "    <tr>\n",
              "      <th>0</th>\n",
              "      <td>A. Morin</td>\n",
              "      <td>Agua Grande</td>\n",
              "      <td>1876</td>\n",
              "      <td>63%</td>\n",
              "      <td>France</td>\n",
              "      <td>3.75</td>\n",
              "      <td></td>\n",
              "      <td>Sao Tome</td>\n",
              "    </tr>\n",
              "    <tr>\n",
              "      <th>1</th>\n",
              "      <td>A. Morin</td>\n",
              "      <td>Kpime</td>\n",
              "      <td>1676</td>\n",
              "      <td>70%</td>\n",
              "      <td>France</td>\n",
              "      <td>2.75</td>\n",
              "      <td></td>\n",
              "      <td>Togo</td>\n",
              "    </tr>\n",
              "    <tr>\n",
              "      <th>2</th>\n",
              "      <td>A. Morin</td>\n",
              "      <td>Atsane</td>\n",
              "      <td>1676</td>\n",
              "      <td>70%</td>\n",
              "      <td>France</td>\n",
              "      <td>3.00</td>\n",
              "      <td></td>\n",
              "      <td>Togo</td>\n",
              "    </tr>\n",
              "    <tr>\n",
              "      <th>3</th>\n",
              "      <td>A. Morin</td>\n",
              "      <td>Akata</td>\n",
              "      <td>1680</td>\n",
              "      <td>70%</td>\n",
              "      <td>France</td>\n",
              "      <td>3.50</td>\n",
              "      <td></td>\n",
              "      <td>Togo</td>\n",
              "    </tr>\n",
              "    <tr>\n",
              "      <th>4</th>\n",
              "      <td>A. Morin</td>\n",
              "      <td>Quilla</td>\n",
              "      <td>1704</td>\n",
              "      <td>70%</td>\n",
              "      <td>France</td>\n",
              "      <td>3.50</td>\n",
              "      <td></td>\n",
              "      <td>Peru</td>\n",
              "    </tr>\n",
              "  </tbody>\n",
              "</table>\n",
              "</div>"
            ],
            "text/plain": [
              "  Company(Maker) Specific_Bean_Origin_Bar_Name  ...  Bean_type Broad_Bean_Origin\n",
              "0       A. Morin                   Agua Grande  ...                     Sao Tome\n",
              "1       A. Morin                         Kpime  ...                         Togo\n",
              "2       A. Morin                        Atsane  ...                         Togo\n",
              "3       A. Morin                         Akata  ...                         Togo\n",
              "4       A. Morin                        Quilla  ...                         Peru\n",
              "\n",
              "[5 rows x 8 columns]"
            ]
          },
          "metadata": {},
          "execution_count": 18
        }
      ]
    },
    {
      "cell_type": "code",
      "metadata": {
        "id": "ptV7l2BHluH9"
      },
      "source": [
        "#Need to convert cocoa_percent to a float but also need to remove the percentage sign\n",
        "df['Cocoa_percent'] = df['Cocoa_percent'].str.strip('%').astype(float)/100"
      ],
      "execution_count": 19,
      "outputs": []
    },
    {
      "cell_type": "code",
      "metadata": {
        "colab": {
          "base_uri": "https://localhost:8080/"
        },
        "id": "PC9N7gpCmW6I",
        "outputId": "b11a87b8-b05b-4770-9a58-34ed125cc7e8"
      },
      "source": [
        "#Checking to see if conversion of data type worked\n",
        "df.info() "
      ],
      "execution_count": 20,
      "outputs": [
        {
          "output_type": "stream",
          "name": "stdout",
          "text": [
            "<class 'pandas.core.frame.DataFrame'>\n",
            "Int64Index: 1793 entries, 0 to 1794\n",
            "Data columns (total 8 columns):\n",
            " #   Column                         Non-Null Count  Dtype  \n",
            "---  ------                         --------------  -----  \n",
            " 0   Company(Maker)                 1793 non-null   object \n",
            " 1   Specific_Bean_Origin_Bar_Name  1793 non-null   object \n",
            " 2   REF                            1793 non-null   int64  \n",
            " 3   Cocoa_percent                  1793 non-null   float64\n",
            " 4   Company_location               1793 non-null   object \n",
            " 5   Rating                         1793 non-null   float64\n",
            " 6   Bean_type                      1793 non-null   object \n",
            " 7   Broad_Bean_Origin              1793 non-null   object \n",
            "dtypes: float64(2), int64(1), object(5)\n",
            "memory usage: 126.1+ KB\n"
          ]
        }
      ]
    },
    {
      "cell_type": "code",
      "metadata": {
        "colab": {
          "base_uri": "https://localhost:8080/",
          "height": 203
        },
        "id": "QTVo3cLiojHl",
        "outputId": "29292a08-0035-4561-b90f-6fa70861316a"
      },
      "source": [
        "df.head()"
      ],
      "execution_count": 21,
      "outputs": [
        {
          "output_type": "execute_result",
          "data": {
            "text/html": [
              "<div>\n",
              "<style scoped>\n",
              "    .dataframe tbody tr th:only-of-type {\n",
              "        vertical-align: middle;\n",
              "    }\n",
              "\n",
              "    .dataframe tbody tr th {\n",
              "        vertical-align: top;\n",
              "    }\n",
              "\n",
              "    .dataframe thead th {\n",
              "        text-align: right;\n",
              "    }\n",
              "</style>\n",
              "<table border=\"1\" class=\"dataframe\">\n",
              "  <thead>\n",
              "    <tr style=\"text-align: right;\">\n",
              "      <th></th>\n",
              "      <th>Company(Maker)</th>\n",
              "      <th>Specific_Bean_Origin_Bar_Name</th>\n",
              "      <th>REF</th>\n",
              "      <th>Cocoa_percent</th>\n",
              "      <th>Company_location</th>\n",
              "      <th>Rating</th>\n",
              "      <th>Bean_type</th>\n",
              "      <th>Broad_Bean_Origin</th>\n",
              "    </tr>\n",
              "  </thead>\n",
              "  <tbody>\n",
              "    <tr>\n",
              "      <th>0</th>\n",
              "      <td>A. Morin</td>\n",
              "      <td>Agua Grande</td>\n",
              "      <td>1876</td>\n",
              "      <td>0.63</td>\n",
              "      <td>France</td>\n",
              "      <td>3.75</td>\n",
              "      <td></td>\n",
              "      <td>Sao Tome</td>\n",
              "    </tr>\n",
              "    <tr>\n",
              "      <th>1</th>\n",
              "      <td>A. Morin</td>\n",
              "      <td>Kpime</td>\n",
              "      <td>1676</td>\n",
              "      <td>0.70</td>\n",
              "      <td>France</td>\n",
              "      <td>2.75</td>\n",
              "      <td></td>\n",
              "      <td>Togo</td>\n",
              "    </tr>\n",
              "    <tr>\n",
              "      <th>2</th>\n",
              "      <td>A. Morin</td>\n",
              "      <td>Atsane</td>\n",
              "      <td>1676</td>\n",
              "      <td>0.70</td>\n",
              "      <td>France</td>\n",
              "      <td>3.00</td>\n",
              "      <td></td>\n",
              "      <td>Togo</td>\n",
              "    </tr>\n",
              "    <tr>\n",
              "      <th>3</th>\n",
              "      <td>A. Morin</td>\n",
              "      <td>Akata</td>\n",
              "      <td>1680</td>\n",
              "      <td>0.70</td>\n",
              "      <td>France</td>\n",
              "      <td>3.50</td>\n",
              "      <td></td>\n",
              "      <td>Togo</td>\n",
              "    </tr>\n",
              "    <tr>\n",
              "      <th>4</th>\n",
              "      <td>A. Morin</td>\n",
              "      <td>Quilla</td>\n",
              "      <td>1704</td>\n",
              "      <td>0.70</td>\n",
              "      <td>France</td>\n",
              "      <td>3.50</td>\n",
              "      <td></td>\n",
              "      <td>Peru</td>\n",
              "    </tr>\n",
              "  </tbody>\n",
              "</table>\n",
              "</div>"
            ],
            "text/plain": [
              "  Company(Maker) Specific_Bean_Origin_Bar_Name  ...  Bean_type  Broad_Bean_Origin\n",
              "0       A. Morin                   Agua Grande  ...                      Sao Tome\n",
              "1       A. Morin                         Kpime  ...                          Togo\n",
              "2       A. Morin                        Atsane  ...                          Togo\n",
              "3       A. Morin                         Akata  ...                          Togo\n",
              "4       A. Morin                        Quilla  ...                          Peru\n",
              "\n",
              "[5 rows x 8 columns]"
            ]
          },
          "metadata": {},
          "execution_count": 21
        }
      ]
    },
    {
      "cell_type": "code",
      "metadata": {
        "colab": {
          "base_uri": "https://localhost:8080/",
          "height": 295
        },
        "id": "xRlOb1phrifz",
        "outputId": "83f7adbd-7f5c-4cd9-f663-36e9b0819242"
      },
      "source": [
        "#Checking the stats and if there are any outliers or weird numbers\n",
        "df.describe()"
      ],
      "execution_count": 22,
      "outputs": [
        {
          "output_type": "execute_result",
          "data": {
            "text/html": [
              "<div>\n",
              "<style scoped>\n",
              "    .dataframe tbody tr th:only-of-type {\n",
              "        vertical-align: middle;\n",
              "    }\n",
              "\n",
              "    .dataframe tbody tr th {\n",
              "        vertical-align: top;\n",
              "    }\n",
              "\n",
              "    .dataframe thead th {\n",
              "        text-align: right;\n",
              "    }\n",
              "</style>\n",
              "<table border=\"1\" class=\"dataframe\">\n",
              "  <thead>\n",
              "    <tr style=\"text-align: right;\">\n",
              "      <th></th>\n",
              "      <th>REF</th>\n",
              "      <th>Cocoa_percent</th>\n",
              "      <th>Rating</th>\n",
              "    </tr>\n",
              "  </thead>\n",
              "  <tbody>\n",
              "    <tr>\n",
              "      <th>count</th>\n",
              "      <td>1793.000000</td>\n",
              "      <td>1793.000000</td>\n",
              "      <td>1793.000000</td>\n",
              "    </tr>\n",
              "    <tr>\n",
              "      <th>mean</th>\n",
              "      <td>1036.126046</td>\n",
              "      <td>0.716991</td>\n",
              "      <td>3.185862</td>\n",
              "    </tr>\n",
              "    <tr>\n",
              "      <th>std</th>\n",
              "      <td>553.128742</td>\n",
              "      <td>0.063265</td>\n",
              "      <td>0.477668</td>\n",
              "    </tr>\n",
              "    <tr>\n",
              "      <th>min</th>\n",
              "      <td>5.000000</td>\n",
              "      <td>0.420000</td>\n",
              "      <td>1.000000</td>\n",
              "    </tr>\n",
              "    <tr>\n",
              "      <th>25%</th>\n",
              "      <td>576.000000</td>\n",
              "      <td>0.700000</td>\n",
              "      <td>3.000000</td>\n",
              "    </tr>\n",
              "    <tr>\n",
              "      <th>50%</th>\n",
              "      <td>1073.000000</td>\n",
              "      <td>0.700000</td>\n",
              "      <td>3.250000</td>\n",
              "    </tr>\n",
              "    <tr>\n",
              "      <th>75%</th>\n",
              "      <td>1502.000000</td>\n",
              "      <td>0.750000</td>\n",
              "      <td>3.500000</td>\n",
              "    </tr>\n",
              "    <tr>\n",
              "      <th>max</th>\n",
              "      <td>1952.000000</td>\n",
              "      <td>1.000000</td>\n",
              "      <td>5.000000</td>\n",
              "    </tr>\n",
              "  </tbody>\n",
              "</table>\n",
              "</div>"
            ],
            "text/plain": [
              "               REF  Cocoa_percent       Rating\n",
              "count  1793.000000    1793.000000  1793.000000\n",
              "mean   1036.126046       0.716991     3.185862\n",
              "std     553.128742       0.063265     0.477668\n",
              "min       5.000000       0.420000     1.000000\n",
              "25%     576.000000       0.700000     3.000000\n",
              "50%    1073.000000       0.700000     3.250000\n",
              "75%    1502.000000       0.750000     3.500000\n",
              "max    1952.000000       1.000000     5.000000"
            ]
          },
          "metadata": {},
          "execution_count": 22
        }
      ]
    },
    {
      "cell_type": "code",
      "metadata": {
        "colab": {
          "base_uri": "https://localhost:8080/"
        },
        "id": "ZShXyTFUuktr",
        "outputId": "ca7829bb-5fd3-462c-bbfc-17964e30b040"
      },
      "source": [
        "#Starting to check ig there are any inconsistencies or misspellings\n",
        "df['Company(Maker)'].value_counts()"
      ],
      "execution_count": 23,
      "outputs": [
        {
          "output_type": "execute_result",
          "data": {
            "text/plain": [
              "Soma                            46\n",
              "Bonnat                          27\n",
              "Fresco                          26\n",
              "Pralus                          25\n",
              "A. Morin                        23\n",
              "                                ..\n",
              "Anahata                          1\n",
              "Pura Delizia                     1\n",
              "Christopher Morel (Felchlin)     1\n",
              "Kiskadee                         1\n",
              "Malmo                            1\n",
              "Name: Company(Maker), Length: 416, dtype: int64"
            ]
          },
          "metadata": {},
          "execution_count": 23
        }
      ]
    },
    {
      "cell_type": "code",
      "metadata": {
        "id": "uiLZxlz9-Fys",
        "colab": {
          "base_uri": "https://localhost:8080/"
        },
        "outputId": "3356cf3b-902c-4024-9fcd-6877449c11f1"
      },
      "source": [
        "df['Specific_Bean_Origin_Bar_Name'].value_counts()"
      ],
      "execution_count": 24,
      "outputs": [
        {
          "output_type": "execute_result",
          "data": {
            "text/plain": [
              "Madagascar                               56\n",
              "Peru                                     45\n",
              "Ecuador                                  42\n",
              "Dominican Republic                       37\n",
              "Venezuela                                21\n",
              "                                         ..\n",
              "Mora Mora 2006                            1\n",
              "Porcelana, S. of Lake Maracaibo           1\n",
              "Porcelana, Tabasco                        1\n",
              "O'ahu, N. Shore, Waialua E., Kakoleka     1\n",
              "Castillo, Hispaniola, unroasted           1\n",
              "Name: Specific_Bean_Origin_Bar_Name, Length: 1038, dtype: int64"
            ]
          },
          "metadata": {},
          "execution_count": 24
        }
      ]
    },
    {
      "cell_type": "code",
      "metadata": {
        "colab": {
          "base_uri": "https://localhost:8080/"
        },
        "id": "g8P-TATsv5AH",
        "outputId": "bcc97ebd-562a-42b7-ccde-84ac44bd3f5a"
      },
      "source": [
        "df['Company_location'].value_counts()"
      ],
      "execution_count": 25,
      "outputs": [
        {
          "output_type": "execute_result",
          "data": {
            "text/plain": [
              "U.S.A.               763\n",
              "France               156\n",
              "Canada               124\n",
              "U.K.                  96\n",
              "Italy                 63\n",
              "Ecuador               54\n",
              "Australia             49\n",
              "Belgium               40\n",
              "Switzerland           38\n",
              "Germany               35\n",
              "Austria               26\n",
              "Spain                 25\n",
              "Colombia              23\n",
              "Hungary               22\n",
              "Venezuela             20\n",
              "Peru                  17\n",
              "Brazil                17\n",
              "Madagascar            17\n",
              "Japan                 17\n",
              "New Zealand           17\n",
              "Denmark               15\n",
              "Vietnam               11\n",
              "Scotland              10\n",
              "Guatemala             10\n",
              "Costa Rica             9\n",
              "Israel                 9\n",
              "Argentina              9\n",
              "Poland                 8\n",
              "Honduras               6\n",
              "Lithuania              6\n",
              "Sweden                 5\n",
              "South Korea            5\n",
              "Nicaragua              5\n",
              "Domincan Republic      5\n",
              "Mexico                 4\n",
              "Fiji                   4\n",
              "Amsterdam              4\n",
              "Sao Tome               4\n",
              "Puerto Rico            4\n",
              "Netherlands            4\n",
              "Ireland                4\n",
              "Grenada                3\n",
              "Iceland                3\n",
              "Singapore              3\n",
              "Portugal               3\n",
              "South Africa           3\n",
              "Finland                2\n",
              "Chile                  2\n",
              "Bolivia                2\n",
              "St. Lucia              2\n",
              "Suriname               1\n",
              "Russia                 1\n",
              "Wales                  1\n",
              "India                  1\n",
              "Ghana                  1\n",
              "Czech Republic         1\n",
              "Eucador                1\n",
              "Philippines            1\n",
              "Niacragua              1\n",
              "Martinique             1\n",
              "Name: Company_location, dtype: int64"
            ]
          },
          "metadata": {},
          "execution_count": 25
        }
      ]
    },
    {
      "cell_type": "code",
      "metadata": {
        "colab": {
          "base_uri": "https://localhost:8080/"
        },
        "id": "vm0GyP7FwBp0",
        "outputId": "9a554351-6054-4d6e-9e94-ad0e0d60f517"
      },
      "source": [
        "df['Bean_type'].value_counts()\n",
        "#We see that there are a lot of blank values for bean type. Might be worth filling in this with \"Unknown\""
      ],
      "execution_count": 26,
      "outputs": [
        {
          "output_type": "execute_result",
          "data": {
            "text/plain": [
              "                            887\n",
              "Trinitario                  418\n",
              "Criollo                     153\n",
              "Forastero                    87\n",
              "Forastero (Nacional)         52\n",
              "Blend                        41\n",
              "Criollo, Trinitario          39\n",
              "Forastero (Arriba)           37\n",
              "Criollo (Porcelana)          10\n",
              "Trinitario, Criollo           9\n",
              "Forastero (Parazinho)         8\n",
              "Forastero (Arriba) ASS        6\n",
              "EET                           3\n",
              "Nacional (Arriba)             3\n",
              "Matina                        3\n",
              "Beniano                       3\n",
              "Trinitario, Forastero         2\n",
              "Forastero (Catongo)           2\n",
              "Amazon mix                    2\n",
              "Trinitario (85% Criollo)      2\n",
              "Criollo, Forastero            2\n",
              "Nacional                      2\n",
              "Criollo (Ocumare 61)          2\n",
              "Criollo (Amarru)              2\n",
              "Amazon, ICS                   2\n",
              "Trinitario (Amelonado)        1\n",
              "Trinitario, TCGA              1\n",
              "Criollo (Ocumare)             1\n",
              "Forastero (Arriba) ASSS       1\n",
              "Blend-Forastero,Criollo       1\n",
              "Criollo (Wild)                1\n",
              "Trinitario (Scavina)          1\n",
              "Forastero (Amelonado)         1\n",
              "Forastero, Trinitario         1\n",
              "CCN51                         1\n",
              "Trinitario, Nacional          1\n",
              "Criollo, +                    1\n",
              "Forastero(Arriba, CCN)        1\n",
              "Criollo (Ocumare 77)          1\n",
              "Criollo (Ocumare 67)          1\n",
              "Amazon                        1\n",
              "Name: Bean_type, dtype: int64"
            ]
          },
          "metadata": {},
          "execution_count": 26
        }
      ]
    },
    {
      "cell_type": "code",
      "metadata": {
        "colab": {
          "base_uri": "https://localhost:8080/",
          "height": 35
        },
        "id": "eXorFhYTwYFK",
        "outputId": "3399f433-a9f5-4d6a-e09b-1071851087d7"
      },
      "source": [
        "#Getting the column value of blank to be replaced because just using '' isn't working\n",
        "df['Bean_type'].max()\n"
      ],
      "execution_count": 27,
      "outputs": [
        {
          "output_type": "execute_result",
          "data": {
            "application/vnd.google.colaboratory.intrinsic+json": {
              "type": "string"
            },
            "text/plain": [
              "'\\xa0'"
            ]
          },
          "metadata": {},
          "execution_count": 27
        }
      ]
    },
    {
      "cell_type": "code",
      "metadata": {
        "id": "xT_Ef1AmwHGw"
      },
      "source": [
        "#Replacing with Unknown\n",
        "df['Bean_type']= df['Bean_type'].replace('\\xa0','Unknown')"
      ],
      "execution_count": 28,
      "outputs": []
    },
    {
      "cell_type": "code",
      "metadata": {
        "colab": {
          "base_uri": "https://localhost:8080/"
        },
        "id": "VIi2hv2Lwhyb",
        "outputId": "c34fe55f-648f-4d3a-ca29-d9a044260b93"
      },
      "source": [
        "#Checking to see if it worked. It did! \n",
        "df['Bean_type'].value_counts()"
      ],
      "execution_count": 29,
      "outputs": [
        {
          "output_type": "execute_result",
          "data": {
            "text/plain": [
              "Unknown                     887\n",
              "Trinitario                  418\n",
              "Criollo                     153\n",
              "Forastero                    87\n",
              "Forastero (Nacional)         52\n",
              "Blend                        41\n",
              "Criollo, Trinitario          39\n",
              "Forastero (Arriba)           37\n",
              "Criollo (Porcelana)          10\n",
              "Trinitario, Criollo           9\n",
              "Forastero (Parazinho)         8\n",
              "Forastero (Arriba) ASS        6\n",
              "Beniano                       3\n",
              "Nacional (Arriba)             3\n",
              "Matina                        3\n",
              "EET                           3\n",
              "Amazon, ICS                   2\n",
              "Trinitario, Forastero         2\n",
              "Amazon mix                    2\n",
              "Criollo (Amarru)              2\n",
              "Criollo, Forastero            2\n",
              "Trinitario (85% Criollo)      2\n",
              "Nacional                      2\n",
              "Criollo (Ocumare 61)          2\n",
              "Forastero (Catongo)           2\n",
              "Blend-Forastero,Criollo       1\n",
              "Criollo, +                    1\n",
              "Forastero (Arriba) ASSS       1\n",
              "Criollo (Ocumare 67)          1\n",
              "Criollo (Ocumare 77)          1\n",
              "Criollo (Ocumare)             1\n",
              "Forastero(Arriba, CCN)        1\n",
              "Trinitario, TCGA              1\n",
              "Trinitario (Amelonado)        1\n",
              "Trinitario, Nacional          1\n",
              "CCN51                         1\n",
              "Forastero, Trinitario         1\n",
              "Criollo (Wild)                1\n",
              "Forastero (Amelonado)         1\n",
              "Trinitario (Scavina)          1\n",
              "Amazon                        1\n",
              "Name: Bean_type, dtype: int64"
            ]
          },
          "metadata": {},
          "execution_count": 29
        }
      ]
    },
    {
      "cell_type": "code",
      "metadata": {
        "id": "r81Ai3RJwZ_f",
        "colab": {
          "base_uri": "https://localhost:8080/"
        },
        "outputId": "0c1865c0-6322-4204-88b9-e3862cd740c6"
      },
      "source": [
        "#Checking dataset again to see what we can plot\n",
        "df.info()"
      ],
      "execution_count": 30,
      "outputs": [
        {
          "output_type": "stream",
          "name": "stdout",
          "text": [
            "<class 'pandas.core.frame.DataFrame'>\n",
            "Int64Index: 1793 entries, 0 to 1794\n",
            "Data columns (total 8 columns):\n",
            " #   Column                         Non-Null Count  Dtype  \n",
            "---  ------                         --------------  -----  \n",
            " 0   Company(Maker)                 1793 non-null   object \n",
            " 1   Specific_Bean_Origin_Bar_Name  1793 non-null   object \n",
            " 2   REF                            1793 non-null   int64  \n",
            " 3   Cocoa_percent                  1793 non-null   float64\n",
            " 4   Company_location               1793 non-null   object \n",
            " 5   Rating                         1793 non-null   float64\n",
            " 6   Bean_type                      1793 non-null   object \n",
            " 7   Broad_Bean_Origin              1793 non-null   object \n",
            "dtypes: float64(2), int64(1), object(5)\n",
            "memory usage: 126.1+ KB\n"
          ]
        }
      ]
    },
    {
      "cell_type": "code",
      "metadata": {
        "id": "whxs0Y167k4J",
        "colab": {
          "base_uri": "https://localhost:8080/"
        },
        "outputId": "bf733ef8-58e0-4969-9264-d08e319c3543"
      },
      "source": [
        "df['Rating'].value_counts()"
      ],
      "execution_count": 31,
      "outputs": [
        {
          "output_type": "execute_result",
          "data": {
            "text/plain": [
              "3.50    392\n",
              "3.00    341\n",
              "3.25    303\n",
              "2.75    259\n",
              "3.75    210\n",
              "2.50    126\n",
              "4.00     97\n",
              "2.00     32\n",
              "2.25     14\n",
              "1.50     10\n",
              "1.00      4\n",
              "1.75      3\n",
              "5.00      2\n",
              "Name: Rating, dtype: int64"
            ]
          },
          "metadata": {},
          "execution_count": 31
        }
      ]
    },
    {
      "cell_type": "code",
      "metadata": {
        "colab": {
          "base_uri": "https://localhost:8080/",
          "height": 287
        },
        "id": "Psvnb9nakxIS",
        "outputId": "f092ea60-e5fb-4463-dc74-af47b0aa5935"
      },
      "source": [
        "#Correlation heatmap. Doesn't seem to be any correlation between the numerical data points\n",
        "sns.heatmap(df.corr(), annot=True)\n"
      ],
      "execution_count": 32,
      "outputs": [
        {
          "output_type": "execute_result",
          "data": {
            "text/plain": [
              "<matplotlib.axes._subplots.AxesSubplot at 0x7f426c2d4990>"
            ]
          },
          "metadata": {},
          "execution_count": 32
        },
        {
          "output_type": "display_data",
          "data": {
            "image/png": "[encoded data removed]",
            "text/plain": [
              "<Figure size 432x288 with 2 Axes>"
            ]
          },
          "metadata": {
            "needs_background": "light"
          }
        }
      ]
    },
    {
      "cell_type": "code",
      "metadata": {
        "id": "LsXPE4nak_3h"
      },
      "source": [
        "#Sorting the top rated bars to plot\n",
        "df = df.sort_values(by = ['Rating'],ascending = False)"
      ],
      "execution_count": 33,
      "outputs": []
    },
    {
      "cell_type": "code",
      "metadata": {
        "id": "gir0UcncnXM4"
      },
      "source": [
        "#Getting the top 10 rated bars\n",
        "top_10 = df[:10]"
      ],
      "execution_count": 34,
      "outputs": []
    },
    {
      "cell_type": "code",
      "metadata": {
        "colab": {
          "base_uri": "https://localhost:8080/",
          "height": 618
        },
        "id": "i7U8a-dDxbpD",
        "outputId": "31f2ef5a-6c84-4fde-8e07-05aadcccc849"
      },
      "source": [
        "#Plotting the top 10 bars by Company\n",
        "\n",
        "plt.figure(figsize=(10,5))\n",
        "plot = sns.barplot(top_10['Company(Maker)'], top_10['Rating'])\n",
        "plt.xticks(\n",
        "    rotation=90, \n",
        "    horizontalalignment='right',\n",
        "    fontweight='light',\n",
        "    fontsize='x-large'  \n",
        ")\n",
        "plt.title('Chocolate Bar Rating by Company(Maker)')\n"
      ],
      "execution_count": 35,
      "outputs": [
        {
          "output_type": "stream",
          "name": "stderr",
          "text": [
            "/usr/local/lib/python3.7/dist-packages/seaborn/_decorators.py:43: FutureWarning: Pass the following variables as keyword args: x, y. From version 0.12, the only valid positional argument will be `data`, and passing other arguments without an explicit keyword will result in an error or misinterpretation.\n",
            "  FutureWarning\n"
          ]
        },
        {
          "output_type": "execute_result",
          "data": {
            "text/plain": [
              "Text(0.5, 1.0, 'Chocolate Bar Rating by Company(Maker)')"
            ]
          },
          "metadata": {},
          "execution_count": 35
        },
        {
          "output_type": "display_data",
          "data": {
            "image/png": "[encoded data removed]",
            "text/plain": [
              "<Figure size 720x360 with 1 Axes>"
            ]
          },
          "metadata": {
            "needs_background": "light"
          }
        }
      ]
    },
    {
      "cell_type": "code",
      "metadata": {
        "colab": {
          "base_uri": "https://localhost:8080/",
          "height": 311
        },
        "id": "b3IYL3X6xlmJ",
        "outputId": "a81970b6-d636-4240-cf6e-5cd1428fe5d4"
      },
      "source": [
        "#Checking the outliers within Rating. Looks like there are a couple. 5 data points\n",
        "plt.figure(figsize=(6, 3))\n",
        "sns.boxplot(df['Rating'],palette=\"Blues\")\n",
        "plt.title('Distribution of Chocolate Bar Ratings')"
      ],
      "execution_count": 82,
      "outputs": [
        {
          "output_type": "stream",
          "name": "stderr",
          "text": [
            "/usr/local/lib/python3.7/dist-packages/seaborn/_decorators.py:43: FutureWarning: Pass the following variable as a keyword arg: x. From version 0.12, the only valid positional argument will be `data`, and passing other arguments without an explicit keyword will result in an error or misinterpretation.\n",
            "  FutureWarning\n"
          ]
        },
        {
          "output_type": "execute_result",
          "data": {
            "text/plain": [
              "Text(0.5, 1.0, 'Distribution of Chocolate Bar Ratings')"
            ]
          },
          "metadata": {},
          "execution_count": 82
        },
        {
          "output_type": "display_data",
          "data": {
            "image/png": "[encoded data removed]",
            "text/plain": [
              "<Figure size 432x216 with 1 Axes>"
            ]
          },
          "metadata": {
            "needs_background": "light"
          }
        }
      ]
    },
    {
      "cell_type": "code",
      "metadata": {
        "colab": {
          "base_uri": "https://localhost:8080/",
          "height": 283
        },
        "id": "7AN1ExlU20UR",
        "outputId": "537505e1-7a3c-4e27-a4f9-97d07c70c7d8"
      },
      "source": [
        "df.boxplot(['Cocoa_percent'])\n",
        "# A lot more outliers here for coca percentage in the bars"
      ],
      "execution_count": 37,
      "outputs": [
        {
          "output_type": "execute_result",
          "data": {
            "text/plain": [
              "<matplotlib.axes._subplots.AxesSubplot at 0x7f426187abd0>"
            ]
          },
          "metadata": {},
          "execution_count": 37
        },
        {
          "output_type": "display_data",
          "data": {
            "image/png": "[encoded data removed]",
            "text/plain": [
              "<Figure size 432x288 with 1 Axes>"
            ]
          },
          "metadata": {
            "needs_background": "light"
          }
        }
      ]
    },
    {
      "cell_type": "code",
      "metadata": {
        "id": "pEnwsJFLTq7p"
      },
      "source": [
        ""
      ],
      "execution_count": null,
      "outputs": []
    },
    {
      "cell_type": "code",
      "metadata": {
        "id": "_AZkqmth5IO5",
        "colab": {
          "base_uri": "https://localhost:8080/",
          "height": 295
        },
        "outputId": "b3f034f8-90b0-4bb6-d02f-0eba2e3bdbf9"
      },
      "source": [
        "#Plotting a histogram to see the distribution of the Cocoa percentage also. Looks relatively normal\n",
        "sns.histplot(df['Cocoa_percent'], bins = 10, color = 'magenta') \n",
        "plt.ylabel('Count')\n",
        "plt.xlabel('Cocoa Percent')\n",
        "plt.title('Cocoa percentage distribution');"
      ],
      "execution_count": 38,
      "outputs": [
        {
          "output_type": "display_data",
          "data": {
            "image/png": "[encoded data removed]",
            "text/plain": [
              "<Figure size 432x288 with 1 Axes>"
            ]
          },
          "metadata": {
            "needs_background": "light"
          }
        }
      ]
    },
    {
      "cell_type": "code",
      "metadata": {
        "colab": {
          "base_uri": "https://localhost:8080/"
        },
        "id": "LVkVyQhij0Ul",
        "outputId": "30c4a08a-8f77-479f-993d-7fc7a06d2d3c"
      },
      "source": [
        "df['Specific_Bean_Origin_Bar_Name'].nunique()"
      ],
      "execution_count": 102,
      "outputs": [
        {
          "output_type": "execute_result",
          "data": {
            "text/plain": [
              "1038"
            ]
          },
          "metadata": {},
          "execution_count": 102
        }
      ]
    },
    {
      "cell_type": "code",
      "metadata": {
        "colab": {
          "base_uri": "https://localhost:8080/"
        },
        "id": "xvCL1abbpiOF",
        "outputId": "1d039c57-d40e-4997-af49-707a081820d4"
      },
      "source": [
        "df['Broad_Bean_Origin'].nunique()"
      ],
      "execution_count": 103,
      "outputs": [
        {
          "output_type": "execute_result",
          "data": {
            "text/plain": [
              "99"
            ]
          },
          "metadata": {},
          "execution_count": 103
        }
      ]
    },
    {
      "cell_type": "code",
      "metadata": {
        "colab": {
          "base_uri": "https://localhost:8080/",
          "height": 310
        },
        "id": "FHuUCj8CjDcu",
        "outputId": "d919adbf-13ff-494e-a958-7851cc20a6e9"
      },
      "source": [
        "df['Specific_Bean_Origin_Bar_Name'].value_counts().nlargest(10).sort_values(ascending = True).plot(kind = 'barh', fontsize= 15, color = 'violet')\n",
        "plt.title('Count of Bars by Bar Origin', fontsize = 20)\n",
        "plt.grid(axis = 'x')\n",
        "plt.xlabel(\"Count\", fontsize = 15)\n",
        "plt.ylabel(\"Bar Origin Location\", fontsize =15)\n",
        "plt.show()"
      ],
      "execution_count": 100,
      "outputs": [
        {
          "output_type": "display_data",
          "data": {
            "image/png": "[encoded data removed]",
            "text/plain": [
              "<Figure size 432x288 with 1 Axes>"
            ]
          },
          "metadata": {
            "needs_background": "light"
          }
        }
      ]
    },
    {
      "cell_type": "code",
      "metadata": {
        "colab": {
          "base_uri": "https://localhost:8080/",
          "height": 310
        },
        "id": "-q5_lZldg-H6",
        "outputId": "a21fb81e-39fd-4774-fa3b-2ba61244fd7c"
      },
      "source": [
        "df['Broad_Bean_Origin'].value_counts().nlargest(10).sort_values(ascending = True).plot(kind = 'barh', fontsize= 15, color = 'purple')\n",
        "plt.title('Count of Bars by Bean Origin', fontsize = 20)\n",
        "plt.grid(axis = 'x')\n",
        "plt.xlabel(\"Count\", fontsize = 15)\n",
        "plt.ylabel(\"Bean Origin Location\", fontsize =15)\n",
        "plt.show()"
      ],
      "execution_count": 101,
      "outputs": [
        {
          "output_type": "display_data",
          "data": {
            "image/png": "[encoded data removed]",
            "text/plain": [
              "<Figure size 432x288 with 1 Axes>"
            ]
          },
          "metadata": {
            "needs_background": "light"
          }
        }
      ]
    },
    {
      "cell_type": "code",
      "metadata": {
        "id": "2hfCJqqdbAcf"
      },
      "source": [
        "top = df.loc[df['Rating']==5]"
      ],
      "execution_count": 39,
      "outputs": []
    },
    {
      "cell_type": "code",
      "metadata": {
        "colab": {
          "base_uri": "https://localhost:8080/",
          "height": 110
        },
        "id": "5wzPR3lbdf0P",
        "outputId": "1b611ad3-b2e3-4354-85d8-7839f4406d80"
      },
      "source": [
        "top"
      ],
      "execution_count": 40,
      "outputs": [
        {
          "output_type": "execute_result",
          "data": {
            "text/html": [
              "<div>\n",
              "<style scoped>\n",
              "    .dataframe tbody tr th:only-of-type {\n",
              "        vertical-align: middle;\n",
              "    }\n",
              "\n",
              "    .dataframe tbody tr th {\n",
              "        vertical-align: top;\n",
              "    }\n",
              "\n",
              "    .dataframe thead th {\n",
              "        text-align: right;\n",
              "    }\n",
              "</style>\n",
              "<table border=\"1\" class=\"dataframe\">\n",
              "  <thead>\n",
              "    <tr style=\"text-align: right;\">\n",
              "      <th></th>\n",
              "      <th>Company(Maker)</th>\n",
              "      <th>Specific_Bean_Origin_Bar_Name</th>\n",
              "      <th>REF</th>\n",
              "      <th>Cocoa_percent</th>\n",
              "      <th>Company_location</th>\n",
              "      <th>Rating</th>\n",
              "      <th>Bean_type</th>\n",
              "      <th>Broad_Bean_Origin</th>\n",
              "    </tr>\n",
              "  </thead>\n",
              "  <tbody>\n",
              "    <tr>\n",
              "      <th>86</th>\n",
              "      <td>Amedei</td>\n",
              "      <td>Toscano Black</td>\n",
              "      <td>40</td>\n",
              "      <td>0.7</td>\n",
              "      <td>Italy</td>\n",
              "      <td>5.0</td>\n",
              "      <td>Blend</td>\n",
              "      <td></td>\n",
              "    </tr>\n",
              "    <tr>\n",
              "      <th>78</th>\n",
              "      <td>Amedei</td>\n",
              "      <td>Chuao</td>\n",
              "      <td>111</td>\n",
              "      <td>0.7</td>\n",
              "      <td>Italy</td>\n",
              "      <td>5.0</td>\n",
              "      <td>Trinitario</td>\n",
              "      <td>Venezuela</td>\n",
              "    </tr>\n",
              "  </tbody>\n",
              "</table>\n",
              "</div>"
            ],
            "text/plain": [
              "   Company(Maker) Specific_Bean_Origin_Bar_Name  ...   Bean_type  Broad_Bean_Origin\n",
              "86         Amedei                 Toscano Black  ...       Blend                   \n",
              "78         Amedei                         Chuao  ...  Trinitario          Venezuela\n",
              "\n",
              "[2 rows x 8 columns]"
            ]
          },
          "metadata": {},
          "execution_count": 40
        }
      ]
    },
    {
      "cell_type": "code",
      "metadata": {
        "colab": {
          "base_uri": "https://localhost:8080/",
          "height": 172
        },
        "id": "4mCZc68DdgU1",
        "outputId": "bac2f92e-97ee-4304-9b9a-a391f401948b"
      },
      "source": [
        "bottom = df.loc[df['Rating']==1]\n",
        "bottom"
      ],
      "execution_count": 41,
      "outputs": [
        {
          "output_type": "execute_result",
          "data": {
            "text/html": [
              "<div>\n",
              "<style scoped>\n",
              "    .dataframe tbody tr th:only-of-type {\n",
              "        vertical-align: middle;\n",
              "    }\n",
              "\n",
              "    .dataframe tbody tr th {\n",
              "        vertical-align: top;\n",
              "    }\n",
              "\n",
              "    .dataframe thead th {\n",
              "        text-align: right;\n",
              "    }\n",
              "</style>\n",
              "<table border=\"1\" class=\"dataframe\">\n",
              "  <thead>\n",
              "    <tr style=\"text-align: right;\">\n",
              "      <th></th>\n",
              "      <th>Company(Maker)</th>\n",
              "      <th>Specific_Bean_Origin_Bar_Name</th>\n",
              "      <th>REF</th>\n",
              "      <th>Cocoa_percent</th>\n",
              "      <th>Company_location</th>\n",
              "      <th>Rating</th>\n",
              "      <th>Bean_type</th>\n",
              "      <th>Broad_Bean_Origin</th>\n",
              "    </tr>\n",
              "  </thead>\n",
              "  <tbody>\n",
              "    <tr>\n",
              "      <th>437</th>\n",
              "      <td>Claudio Corallo</td>\n",
              "      <td>Principe</td>\n",
              "      <td>252</td>\n",
              "      <td>1.00</td>\n",
              "      <td>Sao Tome</td>\n",
              "      <td>1.0</td>\n",
              "      <td>Forastero</td>\n",
              "      <td>Sao Tome &amp; Principe</td>\n",
              "    </tr>\n",
              "    <tr>\n",
              "      <th>465</th>\n",
              "      <td>Cote d' Or (Kraft)</td>\n",
              "      <td>Sensations Intense</td>\n",
              "      <td>48</td>\n",
              "      <td>0.70</td>\n",
              "      <td>Belgium</td>\n",
              "      <td>1.0</td>\n",
              "      <td>Unknown</td>\n",
              "      <td></td>\n",
              "    </tr>\n",
              "    <tr>\n",
              "      <th>326</th>\n",
              "      <td>Callebaut</td>\n",
              "      <td>Baking</td>\n",
              "      <td>141</td>\n",
              "      <td>0.70</td>\n",
              "      <td>Belgium</td>\n",
              "      <td>1.0</td>\n",
              "      <td>Unknown</td>\n",
              "      <td>Ecuador</td>\n",
              "    </tr>\n",
              "    <tr>\n",
              "      <th>1175</th>\n",
              "      <td>Neuhaus (Callebaut)</td>\n",
              "      <td>Dark</td>\n",
              "      <td>135</td>\n",
              "      <td>0.73</td>\n",
              "      <td>Belgium</td>\n",
              "      <td>1.0</td>\n",
              "      <td>Unknown</td>\n",
              "      <td></td>\n",
              "    </tr>\n",
              "  </tbody>\n",
              "</table>\n",
              "</div>"
            ],
            "text/plain": [
              "           Company(Maker)  ...    Broad_Bean_Origin\n",
              "437       Claudio Corallo  ...  Sao Tome & Principe\n",
              "465    Cote d' Or (Kraft)  ...                     \n",
              "326             Callebaut  ...              Ecuador\n",
              "1175  Neuhaus (Callebaut)  ...                     \n",
              "\n",
              "[4 rows x 8 columns]"
            ]
          },
          "metadata": {},
          "execution_count": 41
        }
      ]
    },
    {
      "cell_type": "markdown",
      "metadata": {
        "id": "gx-IYPVXiWII"
      },
      "source": [
        "##Part 4\n",
        "Model Development"
      ]
    },
    {
      "cell_type": "code",
      "metadata": {
        "id": "5NiLvtNEeRdd",
        "colab": {
          "base_uri": "https://localhost:8080/",
          "height": 203
        },
        "outputId": "831e9a56-20eb-4e32-ef1b-c6180f78ac29"
      },
      "source": [
        "#Refamiliarizing myself with the dataset\n",
        "df.head()"
      ],
      "execution_count": 42,
      "outputs": [
        {
          "output_type": "execute_result",
          "data": {
            "text/html": [
              "<div>\n",
              "<style scoped>\n",
              "    .dataframe tbody tr th:only-of-type {\n",
              "        vertical-align: middle;\n",
              "    }\n",
              "\n",
              "    .dataframe tbody tr th {\n",
              "        vertical-align: top;\n",
              "    }\n",
              "\n",
              "    .dataframe thead th {\n",
              "        text-align: right;\n",
              "    }\n",
              "</style>\n",
              "<table border=\"1\" class=\"dataframe\">\n",
              "  <thead>\n",
              "    <tr style=\"text-align: right;\">\n",
              "      <th></th>\n",
              "      <th>Company(Maker)</th>\n",
              "      <th>Specific_Bean_Origin_Bar_Name</th>\n",
              "      <th>REF</th>\n",
              "      <th>Cocoa_percent</th>\n",
              "      <th>Company_location</th>\n",
              "      <th>Rating</th>\n",
              "      <th>Bean_type</th>\n",
              "      <th>Broad_Bean_Origin</th>\n",
              "    </tr>\n",
              "  </thead>\n",
              "  <tbody>\n",
              "    <tr>\n",
              "      <th>86</th>\n",
              "      <td>Amedei</td>\n",
              "      <td>Toscano Black</td>\n",
              "      <td>40</td>\n",
              "      <td>0.7</td>\n",
              "      <td>Italy</td>\n",
              "      <td>5.0</td>\n",
              "      <td>Blend</td>\n",
              "      <td></td>\n",
              "    </tr>\n",
              "    <tr>\n",
              "      <th>78</th>\n",
              "      <td>Amedei</td>\n",
              "      <td>Chuao</td>\n",
              "      <td>111</td>\n",
              "      <td>0.7</td>\n",
              "      <td>Italy</td>\n",
              "      <td>5.0</td>\n",
              "      <td>Trinitario</td>\n",
              "      <td>Venezuela</td>\n",
              "    </tr>\n",
              "    <tr>\n",
              "      <th>863</th>\n",
              "      <td>Idilio (Felchlin)</td>\n",
              "      <td>Carenero Superior, Urrutia, Barlovento</td>\n",
              "      <td>737</td>\n",
              "      <td>0.7</td>\n",
              "      <td>Switzerland</td>\n",
              "      <td>4.0</td>\n",
              "      <td>Trinitario</td>\n",
              "      <td>Venezuela</td>\n",
              "    </tr>\n",
              "    <tr>\n",
              "      <th>256</th>\n",
              "      <td>Brasstown aka It's Chocolate</td>\n",
              "      <td>Chuao</td>\n",
              "      <td>1355</td>\n",
              "      <td>0.7</td>\n",
              "      <td>U.S.A.</td>\n",
              "      <td>4.0</td>\n",
              "      <td>Trinitario</td>\n",
              "      <td>Venezuela</td>\n",
              "    </tr>\n",
              "    <tr>\n",
              "      <th>117</th>\n",
              "      <td>Arete</td>\n",
              "      <td>Chuno</td>\n",
              "      <td>1598</td>\n",
              "      <td>0.7</td>\n",
              "      <td>U.S.A.</td>\n",
              "      <td>4.0</td>\n",
              "      <td>Criollo, Trinitario</td>\n",
              "      <td>Nicaragua</td>\n",
              "    </tr>\n",
              "  </tbody>\n",
              "</table>\n",
              "</div>"
            ],
            "text/plain": [
              "                   Company(Maker)  ... Broad_Bean_Origin\n",
              "86                         Amedei  ...                  \n",
              "78                         Amedei  ...         Venezuela\n",
              "863             Idilio (Felchlin)  ...         Venezuela\n",
              "256  Brasstown aka It's Chocolate  ...         Venezuela\n",
              "117                         Arete  ...         Nicaragua\n",
              "\n",
              "[5 rows x 8 columns]"
            ]
          },
          "metadata": {},
          "execution_count": 42
        }
      ]
    },
    {
      "cell_type": "code",
      "metadata": {
        "id": "T1bfATviys07"
      },
      "source": [
        "#Assigning X and y variable. Knowing we want to predict the rating of the chocolate bar, we assign that as the target\n",
        "X = df.drop(columns = 'Rating')\n",
        "y = df['Rating']"
      ],
      "execution_count": 43,
      "outputs": []
    },
    {
      "cell_type": "code",
      "metadata": {
        "id": "djKSL1T54mNJ"
      },
      "source": [
        "from sklearn.preprocessing import OneHotEncoder, StandardScaler\n",
        "from sklearn.compose import make_column_transformer, make_column_selector\n",
        "from sklearn.pipeline import make_pipeline\n",
        "from sklearn.model_selection import train_test_split\n",
        "from sklearn.ensemble import RandomForestRegressor\n",
        "from sklearn.tree import DecisionTreeRegressor"
      ],
      "execution_count": 44,
      "outputs": []
    },
    {
      "cell_type": "code",
      "metadata": {
        "id": "qj_8UvRf0LKT"
      },
      "source": [
        "#Train test split\n",
        "X_train, X_test, y_train, y_test = train_test_split(X,y,random_state = 42)"
      ],
      "execution_count": 45,
      "outputs": []
    },
    {
      "cell_type": "code",
      "metadata": {
        "id": "KzUPGnKo4ie-"
      },
      "source": [
        "ohe = OneHotEncoder()\n",
        "scaler = StandardScaler()\n",
        "\n",
        "# use make_column_selector to identify your categorical features and your numerical features\n",
        "\n",
        "cat_feat= make_column_selector(dtype_include = 'object')\n",
        "# This will identify all of the quantitative features (columns)\n",
        "quant_feat = make_column_selector(dtype_include = 'number')\n",
        "\n",
        "# Instantiate the column transformers you want to use\n",
        "encoder = OneHotEncoder(handle_unknown = 'ignore')\n",
        "scaler = StandardScaler()\n",
        "\n",
        "# Now make the column transformer...this matches the transformations that we want with the appropriate columns.\n",
        "column_transformer = make_column_transformer((encoder, cat_feat), (scaler, quant_feat))\n"
      ],
      "execution_count": 46,
      "outputs": []
    },
    {
      "cell_type": "code",
      "metadata": {
        "id": "F4r49y-46lNC"
      },
      "source": [
        "# make a pipeline including your column transformer and Adaboost with defaults\n",
        "rf = RandomForestRegressor(random_state = 42)\n",
        "rf_pipe = make_pipeline(column_transformer, rf)"
      ],
      "execution_count": 47,
      "outputs": []
    },
    {
      "cell_type": "code",
      "metadata": {
        "colab": {
          "base_uri": "https://localhost:8080/"
        },
        "id": "EFX1yUu9QPWT",
        "outputId": "63f8d831-5809-4177-cfa8-6f9df3858181"
      },
      "source": [
        "rf_pipe.fit(X_train, y_train)"
      ],
      "execution_count": 48,
      "outputs": [
        {
          "output_type": "execute_result",
          "data": {
            "text/plain": [
              "Pipeline(memory=None,\n",
              "         steps=[('columntransformer',\n",
              "                 ColumnTransformer(n_jobs=None, remainder='drop',\n",
              "                                   sparse_threshold=0.3,\n",
              "                                   transformer_weights=None,\n",
              "                                   transformers=[('onehotencoder',\n",
              "                                                  OneHotEncoder(categories='auto',\n",
              "                                                                drop=None,\n",
              "                                                                dtype=<class 'numpy.float64'>,\n",
              "                                                                handle_unknown='ignore',\n",
              "                                                                sparse=True),\n",
              "                                                  <sklearn.compose._column_transformer.make_column_selector object at 0x7f...\n",
              "                 RandomForestRegressor(bootstrap=True, ccp_alpha=0.0,\n",
              "                                       criterion='mse', max_depth=None,\n",
              "                                       max_features='auto', max_leaf_nodes=None,\n",
              "                                       max_samples=None,\n",
              "                                       min_impurity_decrease=0.0,\n",
              "                                       min_impurity_split=None,\n",
              "                                       min_samples_leaf=1, min_samples_split=2,\n",
              "                                       min_weight_fraction_leaf=0.0,\n",
              "                                       n_estimators=100, n_jobs=None,\n",
              "                                       oob_score=False, random_state=42,\n",
              "                                       verbose=0, warm_start=False))],\n",
              "         verbose=False)"
            ]
          },
          "metadata": {},
          "execution_count": 48
        }
      ]
    },
    {
      "cell_type": "code",
      "metadata": {
        "colab": {
          "base_uri": "https://localhost:8080/"
        },
        "id": "T1_OTVe26SOU",
        "outputId": "1d3df9cd-8755-445c-b4ff-4c1e3194351f"
      },
      "source": [
        "#Evaluate the performance of the model\n",
        "rf_train_score = rf_pipe.score(X_train, y_train)\n",
        "rf_test_score = rf_pipe.score(X_test, y_test)\n",
        "print(rf_train_score)\n",
        "print(rf_test_score)"
      ],
      "execution_count": 49,
      "outputs": [
        {
          "output_type": "stream",
          "name": "stdout",
          "text": [
            "0.8846133925927647\n",
            "0.17686302546295052\n"
          ]
        }
      ]
    },
    {
      "cell_type": "markdown",
      "metadata": {
        "id": "vqoh1UaOU_m4"
      },
      "source": [
        "Seeing that the random forest has a low test score. Let's try some different hypertuning on this one to see if we can make the test score better. "
      ]
    },
    {
      "cell_type": "code",
      "metadata": {
        "id": "rpJpN6pQmgKF"
      },
      "source": [
        "#Importing Gridsearch in order to try a different combination of hyperparameter tuning\n",
        "from sklearn.model_selection import GridSearchCV"
      ],
      "execution_count": 50,
      "outputs": []
    },
    {
      "cell_type": "code",
      "metadata": {
        "id": "nT-p84UqUdau"
      },
      "source": [
        "# Using the documentation as your guide, define a dictionary of the pararameters you want to tune and the values you want to try out\n",
        "params = {'max_depth':[10,30,50], 'n_estimators':[100,200,300]}"
      ],
      "execution_count": 51,
      "outputs": []
    },
    {
      "cell_type": "code",
      "metadata": {
        "id": "tyw8CM2So_v2"
      },
      "source": [
        "# Instantiate a gridsearch with the model you want to use and your hyperparamter dictionary\n",
        "grid = GridSearchCV(RandomForestRegressor(), param_grid = params)"
      ],
      "execution_count": 52,
      "outputs": []
    },
    {
      "cell_type": "code",
      "metadata": {
        "colab": {
          "base_uri": "https://localhost:8080/"
        },
        "id": "VV0QO5JipL9U",
        "outputId": "bd5b0bae-04a1-442c-e5e2-76f8408687bf"
      },
      "source": [
        "# Now create a pipeline with the scaler and the gridsearch model\n",
        "grid_pipe = make_pipeline(column_transformer, grid)\n",
        "\n",
        "grid_pipe.fit(X_train, y_train)\n"
      ],
      "execution_count": 53,
      "outputs": [
        {
          "output_type": "execute_result",
          "data": {
            "text/plain": [
              "Pipeline(memory=None,\n",
              "         steps=[('columntransformer',\n",
              "                 ColumnTransformer(n_jobs=None, remainder='drop',\n",
              "                                   sparse_threshold=0.3,\n",
              "                                   transformer_weights=None,\n",
              "                                   transformers=[('onehotencoder',\n",
              "                                                  OneHotEncoder(categories='auto',\n",
              "                                                                drop=None,\n",
              "                                                                dtype=<class 'numpy.float64'>,\n",
              "                                                                handle_unknown='ignore',\n",
              "                                                                sparse=True),\n",
              "                                                  <sklearn.compose._column_transformer.make_column_selector object at 0x7f...\n",
              "                                                              min_samples_leaf=1,\n",
              "                                                              min_samples_split=2,\n",
              "                                                              min_weight_fraction_leaf=0.0,\n",
              "                                                              n_estimators=100,\n",
              "                                                              n_jobs=None,\n",
              "                                                              oob_score=False,\n",
              "                                                              random_state=None,\n",
              "                                                              verbose=0,\n",
              "                                                              warm_start=False),\n",
              "                              iid='deprecated', n_jobs=None,\n",
              "                              param_grid={'max_depth': [10, 30, 50],\n",
              "                                          'n_estimators': [100, 200, 300]},\n",
              "                              pre_dispatch='2*n_jobs', refit=True,\n",
              "                              return_train_score=False, scoring=None,\n",
              "                              verbose=0))],\n",
              "         verbose=False)"
            ]
          },
          "metadata": {},
          "execution_count": 53
        }
      ]
    },
    {
      "cell_type": "code",
      "metadata": {
        "colab": {
          "base_uri": "https://localhost:8080/"
        },
        "id": "JgK7kxOCpYhU",
        "outputId": "92685bc4-6039-45e6-faee-6292c29d4cc4"
      },
      "source": [
        "# Check the optimal combinations of hyperparameters\n",
        "grid.best_params_"
      ],
      "execution_count": 54,
      "outputs": [
        {
          "output_type": "execute_result",
          "data": {
            "text/plain": [
              "{'max_depth': 50, 'n_estimators': 200}"
            ]
          },
          "metadata": {},
          "execution_count": 54
        }
      ]
    },
    {
      "cell_type": "markdown",
      "metadata": {
        "id": "txiuUoIJU_L_"
      },
      "source": [
        "We see that the max depth of 50 with n estimators of 300 is optimal for the random forest. "
      ]
    },
    {
      "cell_type": "code",
      "metadata": {
        "colab": {
          "base_uri": "https://localhost:8080/"
        },
        "id": "kF-Obaifpwo1",
        "outputId": "23e2c477-0648-45c6-b78f-7573fadd5857"
      },
      "source": [
        "#Checking the score of these optimal combinations of hyperparameters\n",
        "print(grid_pipe.score(X_train, y_train))\n",
        "print(grid_pipe.score(X_test, y_test))"
      ],
      "execution_count": 55,
      "outputs": [
        {
          "output_type": "stream",
          "name": "stdout",
          "text": [
            "0.8378802791612476\n",
            "0.17005527850174773\n"
          ]
        }
      ]
    },
    {
      "cell_type": "markdown",
      "metadata": {
        "id": "b_qgAwF6r0DP"
      },
      "source": [
        "Doesn't look like the grid search helped out much. Will just stick to the original default parameters where the score was actually better. "
      ]
    },
    {
      "cell_type": "code",
      "metadata": {
        "id": "c6OwJkiyqrsl"
      },
      "source": [
        "#Importing KNNeighbors to see if it can do any better than any of the tree models\n",
        "from sklearn.neighbors import KNeighborsRegressor"
      ],
      "execution_count": 56,
      "outputs": []
    },
    {
      "cell_type": "code",
      "metadata": {
        "id": "8EM1K1g8sHwo"
      },
      "source": [
        "#Instantiating the model and creating a pipeline with the column transformer and model\n",
        "knn = KNeighborsRegressor()\n",
        "knn_pipe = make_pipeline(column_transformer, knn)"
      ],
      "execution_count": 57,
      "outputs": []
    },
    {
      "cell_type": "code",
      "metadata": {
        "colab": {
          "base_uri": "https://localhost:8080/"
        },
        "id": "2APZAAmsLUOO",
        "outputId": "897498e9-ec1e-4407-e15e-b484a5d01fc0"
      },
      "source": [
        "#fitting the model on the training data\n",
        "knn_pipe.fit(X_train, y_train)"
      ],
      "execution_count": 58,
      "outputs": [
        {
          "output_type": "execute_result",
          "data": {
            "text/plain": [
              "Pipeline(memory=None,\n",
              "         steps=[('columntransformer',\n",
              "                 ColumnTransformer(n_jobs=None, remainder='drop',\n",
              "                                   sparse_threshold=0.3,\n",
              "                                   transformer_weights=None,\n",
              "                                   transformers=[('onehotencoder',\n",
              "                                                  OneHotEncoder(categories='auto',\n",
              "                                                                drop=None,\n",
              "                                                                dtype=<class 'numpy.float64'>,\n",
              "                                                                handle_unknown='ignore',\n",
              "                                                                sparse=True),\n",
              "                                                  <sklearn.compose._column_transformer.make_column_selector object at 0x7f...),\n",
              "                                                 ('standardscaler',\n",
              "                                                  StandardScaler(copy=True,\n",
              "                                                                 with_mean=True,\n",
              "                                                                 with_std=True),\n",
              "                                                  <sklearn.compose._column_transformer.make_column_selector object at 0x7f42617921d0>)],\n",
              "                                   verbose=False)),\n",
              "                ('kneighborsregressor',\n",
              "                 KNeighborsRegressor(algorithm='auto', leaf_size=30,\n",
              "                                     metric='minkowski', metric_params=None,\n",
              "                                     n_jobs=None, n_neighbors=5, p=2,\n",
              "                                     weights='uniform'))],\n",
              "         verbose=False)"
            ]
          },
          "metadata": {},
          "execution_count": 58
        }
      ]
    },
    {
      "cell_type": "code",
      "metadata": {
        "colab": {
          "base_uri": "https://localhost:8080/"
        },
        "id": "qPs402DkLXmu",
        "outputId": "0345ed37-8f14-4206-f417-3e4df0931b12"
      },
      "source": [
        "#Evaluate the performance of the model\n",
        "knn_train_score = knn_pipe.score(X_train, y_train)\n",
        "knn_test_score = knn_pipe.score(X_test, y_test)\n",
        "print(knn_train_score)\n",
        "print(knn_test_score)"
      ],
      "execution_count": 59,
      "outputs": [
        {
          "output_type": "stream",
          "name": "stdout",
          "text": [
            "0.42816580146449723\n",
            "0.17442328893338932\n"
          ]
        }
      ]
    },
    {
      "cell_type": "markdown",
      "metadata": {
        "id": "Vz62gRHrN-ge"
      },
      "source": [
        "Looks like the test score improved a bit but the training score suffered. Let's see what we can hypertune with a gridsearch on the knn model"
      ]
    },
    {
      "cell_type": "code",
      "metadata": {
        "colab": {
          "base_uri": "https://localhost:8080/"
        },
        "id": "ymHVexG-MlWw",
        "outputId": "2796fb38-513d-4f3e-e7c5-d64f799619b0"
      },
      "source": [
        "#Checking the hyperparameters used in this case, looks like the default number of neighbors used was 5\n",
        "knn_pipe"
      ],
      "execution_count": 60,
      "outputs": [
        {
          "output_type": "execute_result",
          "data": {
            "text/plain": [
              "Pipeline(memory=None,\n",
              "         steps=[('columntransformer',\n",
              "                 ColumnTransformer(n_jobs=None, remainder='drop',\n",
              "                                   sparse_threshold=0.3,\n",
              "                                   transformer_weights=None,\n",
              "                                   transformers=[('onehotencoder',\n",
              "                                                  OneHotEncoder(categories='auto',\n",
              "                                                                drop=None,\n",
              "                                                                dtype=<class 'numpy.float64'>,\n",
              "                                                                handle_unknown='ignore',\n",
              "                                                                sparse=True),\n",
              "                                                  <sklearn.compose._column_transformer.make_column_selector object at 0x7f...),\n",
              "                                                 ('standardscaler',\n",
              "                                                  StandardScaler(copy=True,\n",
              "                                                                 with_mean=True,\n",
              "                                                                 with_std=True),\n",
              "                                                  <sklearn.compose._column_transformer.make_column_selector object at 0x7f42617921d0>)],\n",
              "                                   verbose=False)),\n",
              "                ('kneighborsregressor',\n",
              "                 KNeighborsRegressor(algorithm='auto', leaf_size=30,\n",
              "                                     metric='minkowski', metric_params=None,\n",
              "                                     n_jobs=None, n_neighbors=5, p=2,\n",
              "                                     weights='uniform'))],\n",
              "         verbose=False)"
            ]
          },
          "metadata": {},
          "execution_count": 60
        }
      ]
    },
    {
      "cell_type": "code",
      "metadata": {
        "id": "TMQe-ybrMpTX"
      },
      "source": [
        "#Specifying the different hyperparameters we would like to try\n",
        "params2 = {'n_neighbors':[2,5,10,50,100], 'weights':['uniform', 'distance'],  'p':[1,2]}"
      ],
      "execution_count": 61,
      "outputs": []
    },
    {
      "cell_type": "code",
      "metadata": {
        "id": "D5-BdpyKOPJ4"
      },
      "source": [
        "# Instantiate a gridsearch with the model you want to use and your hyperparamter dictionary\n",
        "grid2 = GridSearchCV(KNeighborsRegressor(), param_grid = params2)"
      ],
      "execution_count": 62,
      "outputs": []
    },
    {
      "cell_type": "code",
      "metadata": {
        "colab": {
          "base_uri": "https://localhost:8080/"
        },
        "id": "6kp7u27JOVf8",
        "outputId": "c89e901a-99f2-42cd-b89c-793dc73c4bc2"
      },
      "source": [
        "# Now create a pipeline with the scaler and the gridsearch model\n",
        "pipe2 = make_pipeline(column_transformer, grid2)\n",
        "\n",
        "pipe2.fit(X_train, y_train)"
      ],
      "execution_count": 63,
      "outputs": [
        {
          "output_type": "execute_result",
          "data": {
            "text/plain": [
              "Pipeline(memory=None,\n",
              "         steps=[('columntransformer',\n",
              "                 ColumnTransformer(n_jobs=None, remainder='drop',\n",
              "                                   sparse_threshold=0.3,\n",
              "                                   transformer_weights=None,\n",
              "                                   transformers=[('onehotencoder',\n",
              "                                                  OneHotEncoder(categories='auto',\n",
              "                                                                drop=None,\n",
              "                                                                dtype=<class 'numpy.float64'>,\n",
              "                                                                handle_unknown='ignore',\n",
              "                                                                sparse=True),\n",
              "                                                  <sklearn.compose._column_transformer.make_column_selector object at 0x7f...\n",
              "                              estimator=KNeighborsRegressor(algorithm='auto',\n",
              "                                                            leaf_size=30,\n",
              "                                                            metric='minkowski',\n",
              "                                                            metric_params=None,\n",
              "                                                            n_jobs=None,\n",
              "                                                            n_neighbors=5, p=2,\n",
              "                                                            weights='uniform'),\n",
              "                              iid='deprecated', n_jobs=None,\n",
              "                              param_grid={'n_neighbors': [2, 5, 10, 50, 100],\n",
              "                                          'p': [1, 2],\n",
              "                                          'weights': ['uniform', 'distance']},\n",
              "                              pre_dispatch='2*n_jobs', refit=True,\n",
              "                              return_train_score=False, scoring=None,\n",
              "                              verbose=0))],\n",
              "         verbose=False)"
            ]
          },
          "metadata": {},
          "execution_count": 63
        }
      ]
    },
    {
      "cell_type": "code",
      "metadata": {
        "colab": {
          "base_uri": "https://localhost:8080/"
        },
        "id": "DBvSzQ4HOdOg",
        "outputId": "c14234ac-ea36-4b41-f9a7-4cd895c39bf3"
      },
      "source": [
        "# Check the optimal combinations of hyperparameters\n",
        "grid2.best_params_"
      ],
      "execution_count": 64,
      "outputs": [
        {
          "output_type": "execute_result",
          "data": {
            "text/plain": [
              "{'n_neighbors': 10, 'p': 1, 'weights': 'distance'}"
            ]
          },
          "metadata": {},
          "execution_count": 64
        }
      ]
    },
    {
      "cell_type": "code",
      "metadata": {
        "colab": {
          "base_uri": "https://localhost:8080/"
        },
        "id": "ipwDVOF5OpSH",
        "outputId": "8b04093d-c415-4e91-b401-f52c72060cd2"
      },
      "source": [
        "#Printing the score of the optimal hyperparameters for the KNN model\n",
        "print(pipe2.score(X_train, y_train))\n",
        "print(pipe2.score(X_test, y_test))"
      ],
      "execution_count": 65,
      "outputs": [
        {
          "output_type": "stream",
          "name": "stdout",
          "text": [
            "1.0\n",
            "0.20167673284934062\n"
          ]
        }
      ]
    },
    {
      "cell_type": "markdown",
      "metadata": {
        "id": "G69GF_P2UUKR"
      },
      "source": [
        "Looks like it is certainly overfit on the training data, but it is also the best test score that we have seen using the hypertuned KNN model"
      ]
    },
    {
      "cell_type": "code",
      "metadata": {
        "id": "W7aDrrjwO4Zw"
      },
      "source": [
        "#Trying a booster to see if it'll improve the score \n",
        "from sklearn.ensemble import GradientBoostingRegressor"
      ],
      "execution_count": 66,
      "outputs": []
    },
    {
      "cell_type": "code",
      "metadata": {
        "id": "k4SXLcPYRxL2"
      },
      "source": [
        "gb = GradientBoostingRegressor(random_state = 42)\n",
        "gb_pipe = make_pipeline(column_transformer, gb)"
      ],
      "execution_count": 67,
      "outputs": []
    },
    {
      "cell_type": "code",
      "metadata": {
        "colab": {
          "base_uri": "https://localhost:8080/"
        },
        "id": "PgoygtFrR8E6",
        "outputId": "be05e6a5-4534-432e-d030-f30b95726a18"
      },
      "source": [
        "gb_pipe.fit(X_train, y_train)\n",
        "# To evaluate your classification model, print a classification report\n",
        "print('Training accuracy:', gb_pipe.score(X_train, y_train))\n",
        "print('Testing accuracy:', gb_pipe.score(X_test, y_test))\n"
      ],
      "execution_count": 68,
      "outputs": [
        {
          "output_type": "stream",
          "name": "stdout",
          "text": [
            "Training accuracy: 0.3816404234505354\n",
            "Testing accuracy: 0.12075468711095805\n"
          ]
        }
      ]
    },
    {
      "cell_type": "markdown",
      "metadata": {
        "id": "eCQpGJVnVsJ6"
      },
      "source": [
        "Looks like the gradient booster didn't really help with either the training score or the test score"
      ]
    },
    {
      "cell_type": "code",
      "metadata": {
        "id": "Gfsf_bAOSDXp"
      },
      "source": [
        "#Last but not least, let's just try a linear regression model \n",
        "from sklearn.linear_model import LinearRegression\n",
        "linreg = LinearRegression()\n",
        "\n",
        "lg_pipe = make_pipeline(column_transformer, linreg)"
      ],
      "execution_count": 69,
      "outputs": []
    },
    {
      "cell_type": "code",
      "metadata": {
        "colab": {
          "base_uri": "https://localhost:8080/"
        },
        "id": "XOc94kQ9XIOC",
        "outputId": "c6fc9cbf-b424-47f7-e67a-88eb34565598"
      },
      "source": [
        "#fitting the model on the training data\n",
        "lg_pipe.fit(X_train, y_train)"
      ],
      "execution_count": 70,
      "outputs": [
        {
          "output_type": "execute_result",
          "data": {
            "text/plain": [
              "Pipeline(memory=None,\n",
              "         steps=[('columntransformer',\n",
              "                 ColumnTransformer(n_jobs=None, remainder='drop',\n",
              "                                   sparse_threshold=0.3,\n",
              "                                   transformer_weights=None,\n",
              "                                   transformers=[('onehotencoder',\n",
              "                                                  OneHotEncoder(categories='auto',\n",
              "                                                                drop=None,\n",
              "                                                                dtype=<class 'numpy.float64'>,\n",
              "                                                                handle_unknown='ignore',\n",
              "                                                                sparse=True),\n",
              "                                                  <sklearn.compose._column_transformer.make_column_selector object at 0x7f425cc75dd0>),\n",
              "                                                 ('standardscaler',\n",
              "                                                  StandardScaler(copy=True,\n",
              "                                                                 with_mean=True,\n",
              "                                                                 with_std=True),\n",
              "                                                  <sklearn.compose._column_transformer.make_column_selector object at 0x7f42617921d0>)],\n",
              "                                   verbose=False)),\n",
              "                ('linearregression',\n",
              "                 LinearRegression(copy_X=True, fit_intercept=True, n_jobs=None,\n",
              "                                  normalize=False))],\n",
              "         verbose=False)"
            ]
          },
          "metadata": {},
          "execution_count": 70
        }
      ]
    },
    {
      "cell_type": "code",
      "metadata": {
        "colab": {
          "base_uri": "https://localhost:8080/"
        },
        "id": "NbZM8P-zXNOc",
        "outputId": "fc264bf1-62e1-442c-e98c-cac8573a2236"
      },
      "source": [
        "lg_train_score = lg_pipe.score(X_train, y_train)\n",
        "lg_test_score = lg_pipe.score(X_test, y_test)\n",
        "print(lg_train_score)\n",
        "print(lg_test_score)"
      ],
      "execution_count": 71,
      "outputs": [
        {
          "output_type": "stream",
          "name": "stdout",
          "text": [
            "0.8798472426244789\n",
            "-0.6675577188206752\n"
          ]
        }
      ]
    },
    {
      "cell_type": "markdown",
      "metadata": {
        "id": "fhrpelDjXXGg"
      },
      "source": [
        "The training score did really well, however the test score is far beyond a good score. \n"
      ]
    },
    {
      "cell_type": "code",
      "metadata": {
        "colab": {
          "base_uri": "https://localhost:8080/"
        },
        "id": "OvwNeQ4jXS55",
        "outputId": "fecd8514-24bb-4a70-b040-b62ba3f17ca7"
      },
      "source": [
        "#Checking the hyperparameters available for a linear regression model\n",
        "linreg"
      ],
      "execution_count": 72,
      "outputs": [
        {
          "output_type": "execute_result",
          "data": {
            "text/plain": [
              "LinearRegression(copy_X=True, fit_intercept=True, n_jobs=None, normalize=False)"
            ]
          },
          "metadata": {},
          "execution_count": 72
        }
      ]
    },
    {
      "cell_type": "code",
      "metadata": {
        "id": "I8zzhvX9XlSq"
      },
      "source": [
        "#Importing some metric tools\n",
        "from sklearn.metrics import mean_absolute_error, mean_squared_error, r2_score"
      ],
      "execution_count": 73,
      "outputs": []
    },
    {
      "cell_type": "code",
      "metadata": {
        "id": "MtU7pyTmYAGJ"
      },
      "source": [
        "#Calculating some of the metrics for our best model: the hypertuned KNN \n",
        "y_pred = pipe2.predict(X)\n",
        "mae = mean_absolute_error(y, y_pred)\n",
        "mse = mean_squared_error(y, y_pred)\n",
        "rmse = np.sqrt(mse)\n",
        "r2 = r2_score(y, y_pred)\n"
      ],
      "execution_count": 74,
      "outputs": []
    },
    {
      "cell_type": "code",
      "metadata": {
        "colab": {
          "base_uri": "https://localhost:8080/"
        },
        "id": "kYmmIXWJYVPr",
        "outputId": "3d024e6d-ee2c-48b6-a7e6-4020032767ff"
      },
      "source": [
        "print(f' MAE: {mae},\\n MSE: {mse},\\n RMSE: {rmse},\\n R^2 Score: {r2}')"
      ],
      "execution_count": 75,
      "outputs": [
        {
          "output_type": "stream",
          "name": "stdout",
          "text": [
            " MAE: 0.08683913096578823,\n",
            " MSE: 0.04654812380055364,\n",
            " RMSE: 0.21575014206380871,\n",
            " R^2 Score: 0.7958765613648869\n"
          ]
        }
      ]
    },
    {
      "cell_type": "markdown",
      "metadata": {
        "id": "stXEFfigc0e5"
      },
      "source": [
        "The R2 value tells us that 79% of the variability within the rating score is accounted for by our KNN model.\n",
        "\n",
        "The MAE tells us that on average our error is about 0.08 off on ratings for chocolate bars\n",
        "\n",
        "Conclusion is to use K nearest Neighbors model with n = 5, p = 1, and weights = 'distance' because this had the best training and test scores out of the other hypertuned regression models. "
      ]
    }
  ]
}