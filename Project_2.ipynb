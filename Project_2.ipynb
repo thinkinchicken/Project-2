{
  "nbformat": 4,
  "nbformat_minor": 0,
  "metadata": {
    "colab": {
      "name": "Project_2.ipynb",
      "provenance": [],
      "mount_file_id": "1h0D33-WLKmB95_eDtx_T_WKJ_u2qrO3g",
      "authorship_tag": "ABX9TyNungYpNTy8UJh0pxvyoN9j",
      "include_colab_link": true
    },
    "kernelspec": {
      "name": "python3",
      "display_name": "Python 3"
    },
    "language_info": {
      "name": "python"
    }
  },
  "cells": [
    {
      "cell_type": "markdown",
      "metadata": {
        "id": "view-in-github",
        "colab_type": "text"
      },
      "source": [
        "<a href=\"https://colab.research.google.com/github/thinkinchicken/Project-2/blob/main/Project_2.ipynb\" target=\"_parent\"><img src=\"https://colab.research.google.com/assets/colab-badge.svg\" alt=\"Open In Colab\"/></a>"
      ]
    },
    {
      "cell_type": "markdown",
      "metadata": {
        "id": "lrh-NZ44Dfga"
      },
      "source": [
        "##Part 1: Selecting a dataset"
      ]
    },
    {
      "cell_type": "code",
      "metadata": {
        "colab": {
          "base_uri": "https://localhost:8080/"
        },
        "id": "Ih-jgAiZJse5",
        "outputId": "ad2a036e-1f9a-4d0e-8352-8aca38999a7f"
      },
      "source": [
        "from google.colab import drive\n",
        "drive.mount('/content/drive')"
      ],
      "execution_count": 2,
      "outputs": [
        {
          "output_type": "stream",
          "name": "stdout",
          "text": [
            "Drive already mounted at /content/drive; to attempt to forcibly remount, call drive.mount(\"/content/drive\", force_remount=True).\n"
          ]
        }
      ]
    },
    {
      "cell_type": "code",
      "metadata": {
        "id": "zuyPIclnaHmV"
      },
      "source": [
        "import pandas as pd\n",
        "import numpy as np\n",
        "import seaborn as sns\n",
        "import matplotlib.pyplot as plt\n",
        "\n"
      ],
      "execution_count": 3,
      "outputs": []
    },
    {
      "cell_type": "markdown",
      "metadata": {
        "id": "jwRRe-JphN1U"
      },
      "source": [
        "First Choice: Data set\n",
        "\n",
        "1) Source of Data: Kaggle\n",
        "\n",
        "2) 1700 individual chocolate bar ratings, regional origin, percentage of coca, and variety of chocolate bean, and region of where they were grown. \n",
        "\n",
        "3) Target is the rating of the chocolate bar\n",
        "\n",
        "4) This is a regression problem. \n",
        "\n",
        "5) 8 features\n",
        "\n",
        "6) 1795 rows\n",
        "\n",
        "7) Challenges is some columns have null values for certain features. May need some extra cleaning \n"
      ]
    },
    {
      "cell_type": "code",
      "metadata": {
        "colab": {
          "base_uri": "https://localhost:8080/"
        },
        "id": "Ja4JpJuhhMep",
        "outputId": "afa4044b-c6e9-481f-ad58-1fed6871b56a"
      },
      "source": [
        "df = pd.read_csv('/content/drive/MyDrive/Colab Notebooks/07 Week 7: Classification Models/flavors_of_cacao.csv', header = 0)\n",
        "df.shape"
      ],
      "execution_count": 4,
      "outputs": [
        {
          "output_type": "execute_result",
          "data": {
            "text/plain": [
              "(1795, 9)"
            ]
          },
          "metadata": {},
          "execution_count": 4
        }
      ]
    },
    {
      "cell_type": "code",
      "metadata": {
        "colab": {
          "base_uri": "https://localhost:8080/"
        },
        "id": "UnF3UkERh6e0",
        "outputId": "b4d9019a-4bc1-4885-c11d-39e32e1ee062"
      },
      "source": [
        "df.head()\n",
        "df['Bean\\nType'].value_counts()"
      ],
      "execution_count": 5,
      "outputs": [
        {
          "output_type": "execute_result",
          "data": {
            "text/plain": [
              "                            887\n",
              "Trinitario                  419\n",
              "Criollo                     153\n",
              "Forastero                    87\n",
              "Forastero (Nacional)         52\n",
              "Blend                        41\n",
              "Criollo, Trinitario          39\n",
              "Forastero (Arriba)           37\n",
              "Criollo (Porcelana)          10\n",
              "Trinitario, Criollo           9\n",
              "Forastero (Parazinho)         8\n",
              "Forastero (Arriba) ASS        6\n",
              "EET                           3\n",
              "Beniano                       3\n",
              "Nacional (Arriba)             3\n",
              "Matina                        3\n",
              "Trinitario (85% Criollo)      2\n",
              "Amazon, ICS                   2\n",
              "Trinitario, Forastero         2\n",
              "Amazon mix                    2\n",
              "Criollo (Amarru)              2\n",
              "Forastero (Catongo)           2\n",
              "Criollo, Forastero            2\n",
              "Nacional                      2\n",
              "Criollo (Ocumare 61)          2\n",
              "Blend-Forastero,Criollo       1\n",
              "Amazon                        1\n",
              "Criollo (Ocumare)             1\n",
              "Forastero (Arriba) ASSS       1\n",
              "Trinitario, TCGA              1\n",
              "Trinitario (Scavina)          1\n",
              "Criollo, +                    1\n",
              "Forastero (Amelonado)         1\n",
              "Criollo (Ocumare 67)          1\n",
              "Trinitario (Amelonado)        1\n",
              "Criollo (Wild)                1\n",
              "Forastero, Trinitario         1\n",
              "CCN51                         1\n",
              "Criollo (Ocumare 77)          1\n",
              "Trinitario, Nacional          1\n",
              "Forastero(Arriba, CCN)        1\n",
              "Name: Bean\\nType, dtype: int64"
            ]
          },
          "metadata": {},
          "execution_count": 5
        }
      ]
    },
    {
      "cell_type": "markdown",
      "metadata": {
        "id": "PGX9EMEafG8U"
      },
      "source": [
        "Second Choice: Data set 2\n",
        "\n",
        "1) Source of Data: Kaggle\n",
        "\n",
        "2) Data includes country, locality, market, goods purchased, price, currency used, quantity, and month/year of purchase of food prices worldwide\n",
        "\n",
        "3) Target is the price of the food\n",
        "\n",
        "4) This is a regression problem\n",
        "\n",
        "5) 10 features\n",
        "\n",
        "6) 743914 rows of data\n",
        "\n",
        "7) Challenges I foresee is that the dataset may need extra cleaning and there are also a lot of features that are necessarily numerical. \n",
        "It is a very large dataset that may also take a lot of time to train and test on. "
      ]
    },
    {
      "cell_type": "code",
      "metadata": {
        "colab": {
          "base_uri": "https://localhost:8080/",
          "height": 204
        },
        "id": "HBUWIvH1ev80",
        "outputId": "15bd8598-4b72-4621-a804-c404a3e3d3b7"
      },
      "source": [
        "df2 = pd.read_csv('/content/drive/MyDrive/Colab Notebooks/07 Week 7: Classification Models/wfp_market_food_prices.csv',encoding='latin-1')\n",
        "df2.head()\n"
      ],
      "execution_count": 6,
      "outputs": [
        {
          "output_type": "execute_result",
          "data": {
            "text/html": [
              "<div>\n",
              "<style scoped>\n",
              "    .dataframe tbody tr th:only-of-type {\n",
              "        vertical-align: middle;\n",
              "    }\n",
              "\n",
              "    .dataframe tbody tr th {\n",
              "        vertical-align: top;\n",
              "    }\n",
              "\n",
              "    .dataframe thead th {\n",
              "        text-align: right;\n",
              "    }\n",
              "</style>\n",
              "<table border=\"1\" class=\"dataframe\">\n",
              "  <thead>\n",
              "    <tr style=\"text-align: right;\">\n",
              "      <th></th>\n",
              "      <th>adm0_id</th>\n",
              "      <th>adm0_name</th>\n",
              "      <th>adm1_id</th>\n",
              "      <th>adm1_name</th>\n",
              "      <th>mkt_id</th>\n",
              "      <th>mkt_name</th>\n",
              "      <th>cm_id</th>\n",
              "      <th>cm_name</th>\n",
              "      <th>cur_id</th>\n",
              "      <th>cur_name</th>\n",
              "      <th>pt_id</th>\n",
              "      <th>pt_name</th>\n",
              "      <th>um_id</th>\n",
              "      <th>um_name</th>\n",
              "      <th>mp_month</th>\n",
              "      <th>mp_year</th>\n",
              "      <th>mp_price</th>\n",
              "      <th>mp_commoditysource</th>\n",
              "    </tr>\n",
              "  </thead>\n",
              "  <tbody>\n",
              "    <tr>\n",
              "      <th>0</th>\n",
              "      <td>1</td>\n",
              "      <td>Afghanistan</td>\n",
              "      <td>272</td>\n",
              "      <td>Badakhshan</td>\n",
              "      <td>266</td>\n",
              "      <td>Fayzabad</td>\n",
              "      <td>55</td>\n",
              "      <td>Bread</td>\n",
              "      <td>87</td>\n",
              "      <td>AFN</td>\n",
              "      <td>15</td>\n",
              "      <td>Retail</td>\n",
              "      <td>5</td>\n",
              "      <td>KG</td>\n",
              "      <td>1</td>\n",
              "      <td>2014</td>\n",
              "      <td>50.0</td>\n",
              "      <td>WFP</td>\n",
              "    </tr>\n",
              "    <tr>\n",
              "      <th>1</th>\n",
              "      <td>1</td>\n",
              "      <td>Afghanistan</td>\n",
              "      <td>272</td>\n",
              "      <td>Badakhshan</td>\n",
              "      <td>266</td>\n",
              "      <td>Fayzabad</td>\n",
              "      <td>55</td>\n",
              "      <td>Bread</td>\n",
              "      <td>87</td>\n",
              "      <td>AFN</td>\n",
              "      <td>15</td>\n",
              "      <td>Retail</td>\n",
              "      <td>5</td>\n",
              "      <td>KG</td>\n",
              "      <td>2</td>\n",
              "      <td>2014</td>\n",
              "      <td>50.0</td>\n",
              "      <td>WFP</td>\n",
              "    </tr>\n",
              "    <tr>\n",
              "      <th>2</th>\n",
              "      <td>1</td>\n",
              "      <td>Afghanistan</td>\n",
              "      <td>272</td>\n",
              "      <td>Badakhshan</td>\n",
              "      <td>266</td>\n",
              "      <td>Fayzabad</td>\n",
              "      <td>55</td>\n",
              "      <td>Bread</td>\n",
              "      <td>87</td>\n",
              "      <td>AFN</td>\n",
              "      <td>15</td>\n",
              "      <td>Retail</td>\n",
              "      <td>5</td>\n",
              "      <td>KG</td>\n",
              "      <td>3</td>\n",
              "      <td>2014</td>\n",
              "      <td>50.0</td>\n",
              "      <td>WFP</td>\n",
              "    </tr>\n",
              "    <tr>\n",
              "      <th>3</th>\n",
              "      <td>1</td>\n",
              "      <td>Afghanistan</td>\n",
              "      <td>272</td>\n",
              "      <td>Badakhshan</td>\n",
              "      <td>266</td>\n",
              "      <td>Fayzabad</td>\n",
              "      <td>55</td>\n",
              "      <td>Bread</td>\n",
              "      <td>87</td>\n",
              "      <td>AFN</td>\n",
              "      <td>15</td>\n",
              "      <td>Retail</td>\n",
              "      <td>5</td>\n",
              "      <td>KG</td>\n",
              "      <td>4</td>\n",
              "      <td>2014</td>\n",
              "      <td>50.0</td>\n",
              "      <td>WFP</td>\n",
              "    </tr>\n",
              "    <tr>\n",
              "      <th>4</th>\n",
              "      <td>1</td>\n",
              "      <td>Afghanistan</td>\n",
              "      <td>272</td>\n",
              "      <td>Badakhshan</td>\n",
              "      <td>266</td>\n",
              "      <td>Fayzabad</td>\n",
              "      <td>55</td>\n",
              "      <td>Bread</td>\n",
              "      <td>87</td>\n",
              "      <td>AFN</td>\n",
              "      <td>15</td>\n",
              "      <td>Retail</td>\n",
              "      <td>5</td>\n",
              "      <td>KG</td>\n",
              "      <td>5</td>\n",
              "      <td>2014</td>\n",
              "      <td>50.0</td>\n",
              "      <td>WFP</td>\n",
              "    </tr>\n",
              "  </tbody>\n",
              "</table>\n",
              "</div>"
            ],
            "text/plain": [
              "   adm0_id    adm0_name  adm1_id  ... mp_year  mp_price mp_commoditysource\n",
              "0        1  Afghanistan      272  ...    2014      50.0                WFP\n",
              "1        1  Afghanistan      272  ...    2014      50.0                WFP\n",
              "2        1  Afghanistan      272  ...    2014      50.0                WFP\n",
              "3        1  Afghanistan      272  ...    2014      50.0                WFP\n",
              "4        1  Afghanistan      272  ...    2014      50.0                WFP\n",
              "\n",
              "[5 rows x 18 columns]"
            ]
          },
          "metadata": {},
          "execution_count": 6
        }
      ]
    },
    {
      "cell_type": "code",
      "metadata": {
        "colab": {
          "base_uri": "https://localhost:8080/"
        },
        "id": "BWJpZ0p6kHbl",
        "outputId": "85c26093-a3ab-40b8-d946-f85214d2da87"
      },
      "source": [
        "df2.shape"
      ],
      "execution_count": 7,
      "outputs": [
        {
          "output_type": "execute_result",
          "data": {
            "text/plain": [
              "(743914, 18)"
            ]
          },
          "metadata": {},
          "execution_count": 7
        }
      ]
    },
    {
      "cell_type": "markdown",
      "metadata": {
        "id": "VjnhcRe5DTMw"
      },
      "source": [
        "Flavors of cacao dataset has been approved!\n"
      ]
    },
    {
      "cell_type": "markdown",
      "metadata": {
        "id": "BNJMte62Djjs"
      },
      "source": [
        "##Part 2: Cleaning the dataset"
      ]
    },
    {
      "cell_type": "code",
      "metadata": {
        "id": "DeQl-Rnbkkdj",
        "colab": {
          "base_uri": "https://localhost:8080/",
          "height": 204
        },
        "outputId": "04d86af7-e632-4311-90b0-da4de3a4a5cc"
      },
      "source": [
        "df.head()\n"
      ],
      "execution_count": 8,
      "outputs": [
        {
          "output_type": "execute_result",
          "data": {
            "text/html": [
              "<div>\n",
              "<style scoped>\n",
              "    .dataframe tbody tr th:only-of-type {\n",
              "        vertical-align: middle;\n",
              "    }\n",
              "\n",
              "    .dataframe tbody tr th {\n",
              "        vertical-align: top;\n",
              "    }\n",
              "\n",
              "    .dataframe thead th {\n",
              "        text-align: right;\n",
              "    }\n",
              "</style>\n",
              "<table border=\"1\" class=\"dataframe\">\n",
              "  <thead>\n",
              "    <tr style=\"text-align: right;\">\n",
              "      <th></th>\n",
              "      <th>Company \\n(Maker-if known)</th>\n",
              "      <th>Specific Bean Origin\\nor Bar Name</th>\n",
              "      <th>REF</th>\n",
              "      <th>Review\\nDate</th>\n",
              "      <th>Cocoa\\nPercent</th>\n",
              "      <th>Company\\nLocation</th>\n",
              "      <th>Rating</th>\n",
              "      <th>Bean\\nType</th>\n",
              "      <th>Broad Bean\\nOrigin</th>\n",
              "    </tr>\n",
              "  </thead>\n",
              "  <tbody>\n",
              "    <tr>\n",
              "      <th>0</th>\n",
              "      <td>A. Morin</td>\n",
              "      <td>Agua Grande</td>\n",
              "      <td>1876</td>\n",
              "      <td>2016</td>\n",
              "      <td>63%</td>\n",
              "      <td>France</td>\n",
              "      <td>3.75</td>\n",
              "      <td></td>\n",
              "      <td>Sao Tome</td>\n",
              "    </tr>\n",
              "    <tr>\n",
              "      <th>1</th>\n",
              "      <td>A. Morin</td>\n",
              "      <td>Kpime</td>\n",
              "      <td>1676</td>\n",
              "      <td>2015</td>\n",
              "      <td>70%</td>\n",
              "      <td>France</td>\n",
              "      <td>2.75</td>\n",
              "      <td></td>\n",
              "      <td>Togo</td>\n",
              "    </tr>\n",
              "    <tr>\n",
              "      <th>2</th>\n",
              "      <td>A. Morin</td>\n",
              "      <td>Atsane</td>\n",
              "      <td>1676</td>\n",
              "      <td>2015</td>\n",
              "      <td>70%</td>\n",
              "      <td>France</td>\n",
              "      <td>3.00</td>\n",
              "      <td></td>\n",
              "      <td>Togo</td>\n",
              "    </tr>\n",
              "    <tr>\n",
              "      <th>3</th>\n",
              "      <td>A. Morin</td>\n",
              "      <td>Akata</td>\n",
              "      <td>1680</td>\n",
              "      <td>2015</td>\n",
              "      <td>70%</td>\n",
              "      <td>France</td>\n",
              "      <td>3.50</td>\n",
              "      <td></td>\n",
              "      <td>Togo</td>\n",
              "    </tr>\n",
              "    <tr>\n",
              "      <th>4</th>\n",
              "      <td>A. Morin</td>\n",
              "      <td>Quilla</td>\n",
              "      <td>1704</td>\n",
              "      <td>2015</td>\n",
              "      <td>70%</td>\n",
              "      <td>France</td>\n",
              "      <td>3.50</td>\n",
              "      <td></td>\n",
              "      <td>Peru</td>\n",
              "    </tr>\n",
              "  </tbody>\n",
              "</table>\n",
              "</div>"
            ],
            "text/plain": [
              "  Company \\n(Maker-if known)  ... Broad Bean\\nOrigin\n",
              "0                   A. Morin  ...           Sao Tome\n",
              "1                   A. Morin  ...               Togo\n",
              "2                   A. Morin  ...               Togo\n",
              "3                   A. Morin  ...               Togo\n",
              "4                   A. Morin  ...               Peru\n",
              "\n",
              "[5 rows x 9 columns]"
            ]
          },
          "metadata": {},
          "execution_count": 8
        }
      ]
    },
    {
      "cell_type": "code",
      "metadata": {
        "id": "moIuuVwBECmN"
      },
      "source": [
        "#Renaming all the columns to be more readable and getting rid of some of the weird characters in each of them\n",
        "df = df.rename(columns = {'Specific Bean Origin\\nor Bar Name':'Specific_Bean_Origin_Bar_Name', 'Review\\nDate':'Review_Date', 'Cocoa\\nPercent':'Cocoa_percent','Company\\nLocation':'Company_location', 'Bean\\nType':'Bean_type', 'Broad Bean\\nOrigin': 'Broad_Bean_Origin'})"
      ],
      "execution_count": 9,
      "outputs": []
    },
    {
      "cell_type": "code",
      "metadata": {
        "id": "i7qNUkS9IEPV"
      },
      "source": [
        "#Renaming the first column because the first time didn't work\n",
        "df = df.rename(columns={ df.columns[0]: 'Company(Maker)' })"
      ],
      "execution_count": 10,
      "outputs": []
    },
    {
      "cell_type": "code",
      "metadata": {
        "colab": {
          "base_uri": "https://localhost:8080/",
          "height": 204
        },
        "id": "IGMeMO4lByRO",
        "outputId": "7eb5ae27-e254-43d1-d93f-0d6a4166dc46"
      },
      "source": [
        "#Checking if the renaming worked\n",
        "df.head()"
      ],
      "execution_count": 11,
      "outputs": [
        {
          "output_type": "execute_result",
          "data": {
            "text/html": [
              "<div>\n",
              "<style scoped>\n",
              "    .dataframe tbody tr th:only-of-type {\n",
              "        vertical-align: middle;\n",
              "    }\n",
              "\n",
              "    .dataframe tbody tr th {\n",
              "        vertical-align: top;\n",
              "    }\n",
              "\n",
              "    .dataframe thead th {\n",
              "        text-align: right;\n",
              "    }\n",
              "</style>\n",
              "<table border=\"1\" class=\"dataframe\">\n",
              "  <thead>\n",
              "    <tr style=\"text-align: right;\">\n",
              "      <th></th>\n",
              "      <th>Company(Maker)</th>\n",
              "      <th>Specific_Bean_Origin_Bar_Name</th>\n",
              "      <th>REF</th>\n",
              "      <th>Review_Date</th>\n",
              "      <th>Cocoa_percent</th>\n",
              "      <th>Company_location</th>\n",
              "      <th>Rating</th>\n",
              "      <th>Bean_type</th>\n",
              "      <th>Broad_Bean_Origin</th>\n",
              "    </tr>\n",
              "  </thead>\n",
              "  <tbody>\n",
              "    <tr>\n",
              "      <th>0</th>\n",
              "      <td>A. Morin</td>\n",
              "      <td>Agua Grande</td>\n",
              "      <td>1876</td>\n",
              "      <td>2016</td>\n",
              "      <td>63%</td>\n",
              "      <td>France</td>\n",
              "      <td>3.75</td>\n",
              "      <td></td>\n",
              "      <td>Sao Tome</td>\n",
              "    </tr>\n",
              "    <tr>\n",
              "      <th>1</th>\n",
              "      <td>A. Morin</td>\n",
              "      <td>Kpime</td>\n",
              "      <td>1676</td>\n",
              "      <td>2015</td>\n",
              "      <td>70%</td>\n",
              "      <td>France</td>\n",
              "      <td>2.75</td>\n",
              "      <td></td>\n",
              "      <td>Togo</td>\n",
              "    </tr>\n",
              "    <tr>\n",
              "      <th>2</th>\n",
              "      <td>A. Morin</td>\n",
              "      <td>Atsane</td>\n",
              "      <td>1676</td>\n",
              "      <td>2015</td>\n",
              "      <td>70%</td>\n",
              "      <td>France</td>\n",
              "      <td>3.00</td>\n",
              "      <td></td>\n",
              "      <td>Togo</td>\n",
              "    </tr>\n",
              "    <tr>\n",
              "      <th>3</th>\n",
              "      <td>A. Morin</td>\n",
              "      <td>Akata</td>\n",
              "      <td>1680</td>\n",
              "      <td>2015</td>\n",
              "      <td>70%</td>\n",
              "      <td>France</td>\n",
              "      <td>3.50</td>\n",
              "      <td></td>\n",
              "      <td>Togo</td>\n",
              "    </tr>\n",
              "    <tr>\n",
              "      <th>4</th>\n",
              "      <td>A. Morin</td>\n",
              "      <td>Quilla</td>\n",
              "      <td>1704</td>\n",
              "      <td>2015</td>\n",
              "      <td>70%</td>\n",
              "      <td>France</td>\n",
              "      <td>3.50</td>\n",
              "      <td></td>\n",
              "      <td>Peru</td>\n",
              "    </tr>\n",
              "  </tbody>\n",
              "</table>\n",
              "</div>"
            ],
            "text/plain": [
              "  Company(Maker) Specific_Bean_Origin_Bar_Name  ...  Bean_type  Broad_Bean_Origin\n",
              "0       A. Morin                   Agua Grande  ...                      Sao Tome\n",
              "1       A. Morin                         Kpime  ...                          Togo\n",
              "2       A. Morin                        Atsane  ...                          Togo\n",
              "3       A. Morin                         Akata  ...                          Togo\n",
              "4       A. Morin                        Quilla  ...                          Peru\n",
              "\n",
              "[5 rows x 9 columns]"
            ]
          },
          "metadata": {},
          "execution_count": 11
        }
      ]
    },
    {
      "cell_type": "code",
      "metadata": {
        "colab": {
          "base_uri": "https://localhost:8080/"
        },
        "id": "n1EnyxtbEPx7",
        "outputId": "4815e7b6-1922-4b77-8482-d6ac35708512"
      },
      "source": [
        "#checking for null values, We see that there are 2 in both bean type and broad bean origin\n",
        "df.info()"
      ],
      "execution_count": 12,
      "outputs": [
        {
          "output_type": "stream",
          "name": "stdout",
          "text": [
            "<class 'pandas.core.frame.DataFrame'>\n",
            "RangeIndex: 1795 entries, 0 to 1794\n",
            "Data columns (total 9 columns):\n",
            " #   Column                         Non-Null Count  Dtype  \n",
            "---  ------                         --------------  -----  \n",
            " 0   Company(Maker)                 1795 non-null   object \n",
            " 1   Specific_Bean_Origin_Bar_Name  1795 non-null   object \n",
            " 2   REF                            1795 non-null   int64  \n",
            " 3   Review_Date                    1795 non-null   int64  \n",
            " 4   Cocoa_percent                  1795 non-null   object \n",
            " 5   Company_location               1795 non-null   object \n",
            " 6   Rating                         1795 non-null   float64\n",
            " 7   Bean_type                      1794 non-null   object \n",
            " 8   Broad_Bean_Origin              1794 non-null   object \n",
            "dtypes: float64(1), int64(2), object(6)\n",
            "memory usage: 126.3+ KB\n"
          ]
        }
      ]
    },
    {
      "cell_type": "code",
      "metadata": {
        "colab": {
          "base_uri": "https://localhost:8080/",
          "height": 111
        },
        "id": "aZaCHprIFzjs",
        "outputId": "73866d5f-5408-4fc6-caac-c5f2fb2b93e3"
      },
      "source": [
        "#Checking the specific on these null values\n",
        "df[df.isnull().any(axis=1)]"
      ],
      "execution_count": 13,
      "outputs": [
        {
          "output_type": "execute_result",
          "data": {
            "text/html": [
              "<div>\n",
              "<style scoped>\n",
              "    .dataframe tbody tr th:only-of-type {\n",
              "        vertical-align: middle;\n",
              "    }\n",
              "\n",
              "    .dataframe tbody tr th {\n",
              "        vertical-align: top;\n",
              "    }\n",
              "\n",
              "    .dataframe thead th {\n",
              "        text-align: right;\n",
              "    }\n",
              "</style>\n",
              "<table border=\"1\" class=\"dataframe\">\n",
              "  <thead>\n",
              "    <tr style=\"text-align: right;\">\n",
              "      <th></th>\n",
              "      <th>Company(Maker)</th>\n",
              "      <th>Specific_Bean_Origin_Bar_Name</th>\n",
              "      <th>REF</th>\n",
              "      <th>Review_Date</th>\n",
              "      <th>Cocoa_percent</th>\n",
              "      <th>Company_location</th>\n",
              "      <th>Rating</th>\n",
              "      <th>Bean_type</th>\n",
              "      <th>Broad_Bean_Origin</th>\n",
              "    </tr>\n",
              "  </thead>\n",
              "  <tbody>\n",
              "    <tr>\n",
              "      <th>1072</th>\n",
              "      <td>Mast Brothers</td>\n",
              "      <td>Madagascar</td>\n",
              "      <td>999</td>\n",
              "      <td>2012</td>\n",
              "      <td>72%</td>\n",
              "      <td>U.S.A.</td>\n",
              "      <td>2.5</td>\n",
              "      <td>Trinitario</td>\n",
              "      <td>NaN</td>\n",
              "    </tr>\n",
              "    <tr>\n",
              "      <th>1544</th>\n",
              "      <td>Soma</td>\n",
              "      <td>Three Amigos(Chuao, Wild Bolivia, D.R.)</td>\n",
              "      <td>676</td>\n",
              "      <td>2011</td>\n",
              "      <td>70%</td>\n",
              "      <td>Canada</td>\n",
              "      <td>4.0</td>\n",
              "      <td>NaN</td>\n",
              "      <td>Ven, Bolivia, D.R.</td>\n",
              "    </tr>\n",
              "  </tbody>\n",
              "</table>\n",
              "</div>"
            ],
            "text/plain": [
              "     Company(Maker)  ...   Broad_Bean_Origin\n",
              "1072  Mast Brothers  ...                 NaN\n",
              "1544           Soma  ...  Ven, Bolivia, D.R.\n",
              "\n",
              "[2 rows x 9 columns]"
            ]
          },
          "metadata": {},
          "execution_count": 13
        }
      ]
    },
    {
      "cell_type": "code",
      "metadata": {
        "id": "0TwV4aWZF4Na"
      },
      "source": [
        "#Deciding to drop the null values as they are not a simple fix of imputing or backfilling and it is only 2 data points\n",
        "df = df.dropna()"
      ],
      "execution_count": 14,
      "outputs": []
    },
    {
      "cell_type": "code",
      "metadata": {
        "colab": {
          "base_uri": "https://localhost:8080/"
        },
        "id": "pfVLmuopIqQr",
        "outputId": "ec512be7-2116-492e-9307-b0347b125188"
      },
      "source": [
        "#checking to see if removing null values worked\n",
        "df.info()"
      ],
      "execution_count": 15,
      "outputs": [
        {
          "output_type": "stream",
          "name": "stdout",
          "text": [
            "<class 'pandas.core.frame.DataFrame'>\n",
            "Int64Index: 1793 entries, 0 to 1794\n",
            "Data columns (total 9 columns):\n",
            " #   Column                         Non-Null Count  Dtype  \n",
            "---  ------                         --------------  -----  \n",
            " 0   Company(Maker)                 1793 non-null   object \n",
            " 1   Specific_Bean_Origin_Bar_Name  1793 non-null   object \n",
            " 2   REF                            1793 non-null   int64  \n",
            " 3   Review_Date                    1793 non-null   int64  \n",
            " 4   Cocoa_percent                  1793 non-null   object \n",
            " 5   Company_location               1793 non-null   object \n",
            " 6   Rating                         1793 non-null   float64\n",
            " 7   Bean_type                      1793 non-null   object \n",
            " 8   Broad_Bean_Origin              1793 non-null   object \n",
            "dtypes: float64(1), int64(2), object(6)\n",
            "memory usage: 140.1+ KB\n"
          ]
        }
      ]
    },
    {
      "cell_type": "code",
      "metadata": {
        "colab": {
          "base_uri": "https://localhost:8080/"
        },
        "id": "jqiS13omIroI",
        "outputId": "5dfe494f-2f85-4589-f481-0dee37dab71b"
      },
      "source": [
        "#Checking for duplicated values. Looks like there isn't any\n",
        "df.duplicated().any()"
      ],
      "execution_count": 16,
      "outputs": [
        {
          "output_type": "execute_result",
          "data": {
            "text/plain": [
              "False"
            ]
          },
          "metadata": {},
          "execution_count": 16
        }
      ]
    },
    {
      "cell_type": "code",
      "metadata": {
        "colab": {
          "base_uri": "https://localhost:8080/"
        },
        "id": "1PUFvMdIcign",
        "outputId": "7ccce8b3-a507-4cd0-e940-eaf4815d9da4"
      },
      "source": [
        "df['REF'].nunique()\n",
        "#Looking at the data dictionary, this value is an index for the date the review was actually done"
      ],
      "execution_count": 17,
      "outputs": [
        {
          "output_type": "execute_result",
          "data": {
            "text/plain": [
              "440"
            ]
          },
          "metadata": {},
          "execution_count": 17
        }
      ]
    },
    {
      "cell_type": "code",
      "metadata": {
        "id": "DWS186jMcuei"
      },
      "source": [
        "#The date the Review was published does not seem relevant to the rating of the actual chocolate bar so going to remove that column\n",
        "df = df.drop(columns = 'Review_Date')\n"
      ],
      "execution_count": 18,
      "outputs": []
    },
    {
      "cell_type": "code",
      "metadata": {
        "colab": {
          "base_uri": "https://localhost:8080/",
          "height": 204
        },
        "id": "8KkdnvN2ltYk",
        "outputId": "75ce1e74-ed7a-4afe-e92c-67f74d0cfadb"
      },
      "source": [
        "df.head()"
      ],
      "execution_count": 19,
      "outputs": [
        {
          "output_type": "execute_result",
          "data": {
            "text/html": [
              "<div>\n",
              "<style scoped>\n",
              "    .dataframe tbody tr th:only-of-type {\n",
              "        vertical-align: middle;\n",
              "    }\n",
              "\n",
              "    .dataframe tbody tr th {\n",
              "        vertical-align: top;\n",
              "    }\n",
              "\n",
              "    .dataframe thead th {\n",
              "        text-align: right;\n",
              "    }\n",
              "</style>\n",
              "<table border=\"1\" class=\"dataframe\">\n",
              "  <thead>\n",
              "    <tr style=\"text-align: right;\">\n",
              "      <th></th>\n",
              "      <th>Company(Maker)</th>\n",
              "      <th>Specific_Bean_Origin_Bar_Name</th>\n",
              "      <th>REF</th>\n",
              "      <th>Cocoa_percent</th>\n",
              "      <th>Company_location</th>\n",
              "      <th>Rating</th>\n",
              "      <th>Bean_type</th>\n",
              "      <th>Broad_Bean_Origin</th>\n",
              "    </tr>\n",
              "  </thead>\n",
              "  <tbody>\n",
              "    <tr>\n",
              "      <th>0</th>\n",
              "      <td>A. Morin</td>\n",
              "      <td>Agua Grande</td>\n",
              "      <td>1876</td>\n",
              "      <td>63%</td>\n",
              "      <td>France</td>\n",
              "      <td>3.75</td>\n",
              "      <td></td>\n",
              "      <td>Sao Tome</td>\n",
              "    </tr>\n",
              "    <tr>\n",
              "      <th>1</th>\n",
              "      <td>A. Morin</td>\n",
              "      <td>Kpime</td>\n",
              "      <td>1676</td>\n",
              "      <td>70%</td>\n",
              "      <td>France</td>\n",
              "      <td>2.75</td>\n",
              "      <td></td>\n",
              "      <td>Togo</td>\n",
              "    </tr>\n",
              "    <tr>\n",
              "      <th>2</th>\n",
              "      <td>A. Morin</td>\n",
              "      <td>Atsane</td>\n",
              "      <td>1676</td>\n",
              "      <td>70%</td>\n",
              "      <td>France</td>\n",
              "      <td>3.00</td>\n",
              "      <td></td>\n",
              "      <td>Togo</td>\n",
              "    </tr>\n",
              "    <tr>\n",
              "      <th>3</th>\n",
              "      <td>A. Morin</td>\n",
              "      <td>Akata</td>\n",
              "      <td>1680</td>\n",
              "      <td>70%</td>\n",
              "      <td>France</td>\n",
              "      <td>3.50</td>\n",
              "      <td></td>\n",
              "      <td>Togo</td>\n",
              "    </tr>\n",
              "    <tr>\n",
              "      <th>4</th>\n",
              "      <td>A. Morin</td>\n",
              "      <td>Quilla</td>\n",
              "      <td>1704</td>\n",
              "      <td>70%</td>\n",
              "      <td>France</td>\n",
              "      <td>3.50</td>\n",
              "      <td></td>\n",
              "      <td>Peru</td>\n",
              "    </tr>\n",
              "  </tbody>\n",
              "</table>\n",
              "</div>"
            ],
            "text/plain": [
              "  Company(Maker) Specific_Bean_Origin_Bar_Name  ...  Bean_type Broad_Bean_Origin\n",
              "0       A. Morin                   Agua Grande  ...                     Sao Tome\n",
              "1       A. Morin                         Kpime  ...                         Togo\n",
              "2       A. Morin                        Atsane  ...                         Togo\n",
              "3       A. Morin                         Akata  ...                         Togo\n",
              "4       A. Morin                        Quilla  ...                         Peru\n",
              "\n",
              "[5 rows x 8 columns]"
            ]
          },
          "metadata": {},
          "execution_count": 19
        }
      ]
    },
    {
      "cell_type": "code",
      "metadata": {
        "id": "ptV7l2BHluH9"
      },
      "source": [
        "#Need to convert cocoa_percent to a float but also need to remove the percentage sign\n",
        "df['Cocoa_percent'] = df['Cocoa_percent'].str.strip('%').astype(float)/100"
      ],
      "execution_count": 20,
      "outputs": []
    },
    {
      "cell_type": "code",
      "metadata": {
        "colab": {
          "base_uri": "https://localhost:8080/"
        },
        "id": "PC9N7gpCmW6I",
        "outputId": "a129892c-83e6-4ce1-a317-bf60c4f52b11"
      },
      "source": [
        "#Checking to see if conversion of data type worked\n",
        "df.info() "
      ],
      "execution_count": 21,
      "outputs": [
        {
          "output_type": "stream",
          "name": "stdout",
          "text": [
            "<class 'pandas.core.frame.DataFrame'>\n",
            "Int64Index: 1793 entries, 0 to 1794\n",
            "Data columns (total 8 columns):\n",
            " #   Column                         Non-Null Count  Dtype  \n",
            "---  ------                         --------------  -----  \n",
            " 0   Company(Maker)                 1793 non-null   object \n",
            " 1   Specific_Bean_Origin_Bar_Name  1793 non-null   object \n",
            " 2   REF                            1793 non-null   int64  \n",
            " 3   Cocoa_percent                  1793 non-null   float64\n",
            " 4   Company_location               1793 non-null   object \n",
            " 5   Rating                         1793 non-null   float64\n",
            " 6   Bean_type                      1793 non-null   object \n",
            " 7   Broad_Bean_Origin              1793 non-null   object \n",
            "dtypes: float64(2), int64(1), object(5)\n",
            "memory usage: 126.1+ KB\n"
          ]
        }
      ]
    },
    {
      "cell_type": "code",
      "metadata": {
        "colab": {
          "base_uri": "https://localhost:8080/",
          "height": 204
        },
        "id": "QTVo3cLiojHl",
        "outputId": "a9082407-53db-4f26-872f-75bcf2b89866"
      },
      "source": [
        "df.head()"
      ],
      "execution_count": 22,
      "outputs": [
        {
          "output_type": "execute_result",
          "data": {
            "text/html": [
              "<div>\n",
              "<style scoped>\n",
              "    .dataframe tbody tr th:only-of-type {\n",
              "        vertical-align: middle;\n",
              "    }\n",
              "\n",
              "    .dataframe tbody tr th {\n",
              "        vertical-align: top;\n",
              "    }\n",
              "\n",
              "    .dataframe thead th {\n",
              "        text-align: right;\n",
              "    }\n",
              "</style>\n",
              "<table border=\"1\" class=\"dataframe\">\n",
              "  <thead>\n",
              "    <tr style=\"text-align: right;\">\n",
              "      <th></th>\n",
              "      <th>Company(Maker)</th>\n",
              "      <th>Specific_Bean_Origin_Bar_Name</th>\n",
              "      <th>REF</th>\n",
              "      <th>Cocoa_percent</th>\n",
              "      <th>Company_location</th>\n",
              "      <th>Rating</th>\n",
              "      <th>Bean_type</th>\n",
              "      <th>Broad_Bean_Origin</th>\n",
              "    </tr>\n",
              "  </thead>\n",
              "  <tbody>\n",
              "    <tr>\n",
              "      <th>0</th>\n",
              "      <td>A. Morin</td>\n",
              "      <td>Agua Grande</td>\n",
              "      <td>1876</td>\n",
              "      <td>0.63</td>\n",
              "      <td>France</td>\n",
              "      <td>3.75</td>\n",
              "      <td></td>\n",
              "      <td>Sao Tome</td>\n",
              "    </tr>\n",
              "    <tr>\n",
              "      <th>1</th>\n",
              "      <td>A. Morin</td>\n",
              "      <td>Kpime</td>\n",
              "      <td>1676</td>\n",
              "      <td>0.70</td>\n",
              "      <td>France</td>\n",
              "      <td>2.75</td>\n",
              "      <td></td>\n",
              "      <td>Togo</td>\n",
              "    </tr>\n",
              "    <tr>\n",
              "      <th>2</th>\n",
              "      <td>A. Morin</td>\n",
              "      <td>Atsane</td>\n",
              "      <td>1676</td>\n",
              "      <td>0.70</td>\n",
              "      <td>France</td>\n",
              "      <td>3.00</td>\n",
              "      <td></td>\n",
              "      <td>Togo</td>\n",
              "    </tr>\n",
              "    <tr>\n",
              "      <th>3</th>\n",
              "      <td>A. Morin</td>\n",
              "      <td>Akata</td>\n",
              "      <td>1680</td>\n",
              "      <td>0.70</td>\n",
              "      <td>France</td>\n",
              "      <td>3.50</td>\n",
              "      <td></td>\n",
              "      <td>Togo</td>\n",
              "    </tr>\n",
              "    <tr>\n",
              "      <th>4</th>\n",
              "      <td>A. Morin</td>\n",
              "      <td>Quilla</td>\n",
              "      <td>1704</td>\n",
              "      <td>0.70</td>\n",
              "      <td>France</td>\n",
              "      <td>3.50</td>\n",
              "      <td></td>\n",
              "      <td>Peru</td>\n",
              "    </tr>\n",
              "  </tbody>\n",
              "</table>\n",
              "</div>"
            ],
            "text/plain": [
              "  Company(Maker) Specific_Bean_Origin_Bar_Name  ...  Bean_type  Broad_Bean_Origin\n",
              "0       A. Morin                   Agua Grande  ...                      Sao Tome\n",
              "1       A. Morin                         Kpime  ...                          Togo\n",
              "2       A. Morin                        Atsane  ...                          Togo\n",
              "3       A. Morin                         Akata  ...                          Togo\n",
              "4       A. Morin                        Quilla  ...                          Peru\n",
              "\n",
              "[5 rows x 8 columns]"
            ]
          },
          "metadata": {},
          "execution_count": 22
        }
      ]
    },
    {
      "cell_type": "code",
      "metadata": {
        "colab": {
          "base_uri": "https://localhost:8080/",
          "height": 297
        },
        "id": "xRlOb1phrifz",
        "outputId": "2c7db918-90c3-4f37-9500-ca4ba86aed4c"
      },
      "source": [
        "#Checking the stats and if there are any outliers or weird numbers\n",
        "df.describe()"
      ],
      "execution_count": 23,
      "outputs": [
        {
          "output_type": "execute_result",
          "data": {
            "text/html": [
              "<div>\n",
              "<style scoped>\n",
              "    .dataframe tbody tr th:only-of-type {\n",
              "        vertical-align: middle;\n",
              "    }\n",
              "\n",
              "    .dataframe tbody tr th {\n",
              "        vertical-align: top;\n",
              "    }\n",
              "\n",
              "    .dataframe thead th {\n",
              "        text-align: right;\n",
              "    }\n",
              "</style>\n",
              "<table border=\"1\" class=\"dataframe\">\n",
              "  <thead>\n",
              "    <tr style=\"text-align: right;\">\n",
              "      <th></th>\n",
              "      <th>REF</th>\n",
              "      <th>Cocoa_percent</th>\n",
              "      <th>Rating</th>\n",
              "    </tr>\n",
              "  </thead>\n",
              "  <tbody>\n",
              "    <tr>\n",
              "      <th>count</th>\n",
              "      <td>1793.000000</td>\n",
              "      <td>1793.000000</td>\n",
              "      <td>1793.000000</td>\n",
              "    </tr>\n",
              "    <tr>\n",
              "      <th>mean</th>\n",
              "      <td>1036.126046</td>\n",
              "      <td>0.716991</td>\n",
              "      <td>3.185862</td>\n",
              "    </tr>\n",
              "    <tr>\n",
              "      <th>std</th>\n",
              "      <td>553.128742</td>\n",
              "      <td>0.063265</td>\n",
              "      <td>0.477668</td>\n",
              "    </tr>\n",
              "    <tr>\n",
              "      <th>min</th>\n",
              "      <td>5.000000</td>\n",
              "      <td>0.420000</td>\n",
              "      <td>1.000000</td>\n",
              "    </tr>\n",
              "    <tr>\n",
              "      <th>25%</th>\n",
              "      <td>576.000000</td>\n",
              "      <td>0.700000</td>\n",
              "      <td>3.000000</td>\n",
              "    </tr>\n",
              "    <tr>\n",
              "      <th>50%</th>\n",
              "      <td>1073.000000</td>\n",
              "      <td>0.700000</td>\n",
              "      <td>3.250000</td>\n",
              "    </tr>\n",
              "    <tr>\n",
              "      <th>75%</th>\n",
              "      <td>1502.000000</td>\n",
              "      <td>0.750000</td>\n",
              "      <td>3.500000</td>\n",
              "    </tr>\n",
              "    <tr>\n",
              "      <th>max</th>\n",
              "      <td>1952.000000</td>\n",
              "      <td>1.000000</td>\n",
              "      <td>5.000000</td>\n",
              "    </tr>\n",
              "  </tbody>\n",
              "</table>\n",
              "</div>"
            ],
            "text/plain": [
              "               REF  Cocoa_percent       Rating\n",
              "count  1793.000000    1793.000000  1793.000000\n",
              "mean   1036.126046       0.716991     3.185862\n",
              "std     553.128742       0.063265     0.477668\n",
              "min       5.000000       0.420000     1.000000\n",
              "25%     576.000000       0.700000     3.000000\n",
              "50%    1073.000000       0.700000     3.250000\n",
              "75%    1502.000000       0.750000     3.500000\n",
              "max    1952.000000       1.000000     5.000000"
            ]
          },
          "metadata": {},
          "execution_count": 23
        }
      ]
    },
    {
      "cell_type": "code",
      "metadata": {
        "colab": {
          "base_uri": "https://localhost:8080/"
        },
        "id": "ZShXyTFUuktr",
        "outputId": "3d7ef6c7-6fcb-40fa-e945-fa195a0f4287"
      },
      "source": [
        "#Starting to check ig there are any inconsistencies or misspellings\n",
        "df['Company(Maker)'].value_counts()"
      ],
      "execution_count": 24,
      "outputs": [
        {
          "output_type": "execute_result",
          "data": {
            "text/plain": [
              "Soma                    46\n",
              "Bonnat                  27\n",
              "Fresco                  26\n",
              "Pralus                  25\n",
              "A. Morin                23\n",
              "                        ..\n",
              "Friis Holm               1\n",
              "Forever Cacao            1\n",
              "Edelmond                 1\n",
              "Rancho San Jacinto       1\n",
              "Chocolate Conspiracy     1\n",
              "Name: Company(Maker), Length: 416, dtype: int64"
            ]
          },
          "metadata": {},
          "execution_count": 24
        }
      ]
    },
    {
      "cell_type": "code",
      "metadata": {
        "id": "uiLZxlz9-Fys",
        "colab": {
          "base_uri": "https://localhost:8080/"
        },
        "outputId": "ddad41e1-ffd1-4664-ba8b-4c7a48ad9899"
      },
      "source": [
        "df['Specific_Bean_Origin_Bar_Name'].value_counts()"
      ],
      "execution_count": 25,
      "outputs": [
        {
          "output_type": "execute_result",
          "data": {
            "text/plain": [
              "Madagascar                      56\n",
              "Peru                            45\n",
              "Ecuador                         42\n",
              "Dominican Republic              37\n",
              "Venezuela                       21\n",
              "                                ..\n",
              "Saidor Estate, Madang P.         1\n",
              "Ecuador, Bob Bar                 1\n",
              "Sambirano Valley, batch 2477     1\n",
              "Kongo, Highlands                 1\n",
              "Venzuela                         1\n",
              "Name: Specific_Bean_Origin_Bar_Name, Length: 1038, dtype: int64"
            ]
          },
          "metadata": {},
          "execution_count": 25
        }
      ]
    },
    {
      "cell_type": "code",
      "metadata": {
        "colab": {
          "base_uri": "https://localhost:8080/"
        },
        "id": "g8P-TATsv5AH",
        "outputId": "7ee2ada6-14ba-4e0c-d02b-6c08842272ab"
      },
      "source": [
        "df['Company_location'].value_counts()"
      ],
      "execution_count": 26,
      "outputs": [
        {
          "output_type": "execute_result",
          "data": {
            "text/plain": [
              "U.S.A.               763\n",
              "France               156\n",
              "Canada               124\n",
              "U.K.                  96\n",
              "Italy                 63\n",
              "Ecuador               54\n",
              "Australia             49\n",
              "Belgium               40\n",
              "Switzerland           38\n",
              "Germany               35\n",
              "Austria               26\n",
              "Spain                 25\n",
              "Colombia              23\n",
              "Hungary               22\n",
              "Venezuela             20\n",
              "Japan                 17\n",
              "New Zealand           17\n",
              "Brazil                17\n",
              "Peru                  17\n",
              "Madagascar            17\n",
              "Denmark               15\n",
              "Vietnam               11\n",
              "Scotland              10\n",
              "Guatemala             10\n",
              "Argentina              9\n",
              "Costa Rica             9\n",
              "Israel                 9\n",
              "Poland                 8\n",
              "Honduras               6\n",
              "Lithuania              6\n",
              "Nicaragua              5\n",
              "Sweden                 5\n",
              "Domincan Republic      5\n",
              "South Korea            5\n",
              "Puerto Rico            4\n",
              "Mexico                 4\n",
              "Netherlands            4\n",
              "Fiji                   4\n",
              "Sao Tome               4\n",
              "Ireland                4\n",
              "Amsterdam              4\n",
              "South Africa           3\n",
              "Iceland                3\n",
              "Singapore              3\n",
              "Portugal               3\n",
              "Grenada                3\n",
              "Finland                2\n",
              "Chile                  2\n",
              "Bolivia                2\n",
              "St. Lucia              2\n",
              "Eucador                1\n",
              "India                  1\n",
              "Czech Republic         1\n",
              "Niacragua              1\n",
              "Russia                 1\n",
              "Philippines            1\n",
              "Ghana                  1\n",
              "Suriname               1\n",
              "Wales                  1\n",
              "Martinique             1\n",
              "Name: Company_location, dtype: int64"
            ]
          },
          "metadata": {},
          "execution_count": 26
        }
      ]
    },
    {
      "cell_type": "code",
      "metadata": {
        "colab": {
          "base_uri": "https://localhost:8080/"
        },
        "id": "vm0GyP7FwBp0",
        "outputId": "b995e7ca-61ef-4ad9-aecc-653845163fe9"
      },
      "source": [
        "df['Bean_type'].value_counts()\n",
        "#We see that there are a lot of blank values for bean type. Might be worth filling in this with \"Unknown\""
      ],
      "execution_count": 27,
      "outputs": [
        {
          "output_type": "execute_result",
          "data": {
            "text/plain": [
              "                            887\n",
              "Trinitario                  418\n",
              "Criollo                     153\n",
              "Forastero                    87\n",
              "Forastero (Nacional)         52\n",
              "Blend                        41\n",
              "Criollo, Trinitario          39\n",
              "Forastero (Arriba)           37\n",
              "Criollo (Porcelana)          10\n",
              "Trinitario, Criollo           9\n",
              "Forastero (Parazinho)         8\n",
              "Forastero (Arriba) ASS        6\n",
              "EET                           3\n",
              "Beniano                       3\n",
              "Nacional (Arriba)             3\n",
              "Matina                        3\n",
              "Trinitario (85% Criollo)      2\n",
              "Amazon, ICS                   2\n",
              "Trinitario, Forastero         2\n",
              "Amazon mix                    2\n",
              "Criollo (Amarru)              2\n",
              "Forastero (Catongo)           2\n",
              "Criollo, Forastero            2\n",
              "Nacional                      2\n",
              "Criollo (Ocumare 61)          2\n",
              "Blend-Forastero,Criollo       1\n",
              "Amazon                        1\n",
              "Criollo (Ocumare)             1\n",
              "Forastero (Arriba) ASSS       1\n",
              "Trinitario, TCGA              1\n",
              "Trinitario (Scavina)          1\n",
              "Criollo, +                    1\n",
              "Forastero (Amelonado)         1\n",
              "Criollo (Ocumare 67)          1\n",
              "Trinitario (Amelonado)        1\n",
              "Criollo (Wild)                1\n",
              "Forastero, Trinitario         1\n",
              "CCN51                         1\n",
              "Criollo (Ocumare 77)          1\n",
              "Trinitario, Nacional          1\n",
              "Forastero(Arriba, CCN)        1\n",
              "Name: Bean_type, dtype: int64"
            ]
          },
          "metadata": {},
          "execution_count": 27
        }
      ]
    },
    {
      "cell_type": "code",
      "metadata": {
        "colab": {
          "base_uri": "https://localhost:8080/",
          "height": 35
        },
        "id": "eXorFhYTwYFK",
        "outputId": "63b2e6d8-29e1-4c0d-efab-1e8b189c8886"
      },
      "source": [
        "#Getting the column value of blank to be replaced because just using '' isn't working\n",
        "df['Bean_type'].max()\n"
      ],
      "execution_count": 28,
      "outputs": [
        {
          "output_type": "execute_result",
          "data": {
            "application/vnd.google.colaboratory.intrinsic+json": {
              "type": "string"
            },
            "text/plain": [
              "'\\xa0'"
            ]
          },
          "metadata": {},
          "execution_count": 28
        }
      ]
    },
    {
      "cell_type": "code",
      "metadata": {
        "id": "xT_Ef1AmwHGw"
      },
      "source": [
        "#Replacing with Unknown\n",
        "df['Bean_type']= df['Bean_type'].replace('\\xa0','Unknown')"
      ],
      "execution_count": 29,
      "outputs": []
    },
    {
      "cell_type": "code",
      "metadata": {
        "colab": {
          "base_uri": "https://localhost:8080/"
        },
        "id": "VIi2hv2Lwhyb",
        "outputId": "4c494c1e-16a2-440f-c8b4-cca38f486f38"
      },
      "source": [
        "#Checking to see if it worked. It did! \n",
        "df['Bean_type'].value_counts()"
      ],
      "execution_count": 30,
      "outputs": [
        {
          "output_type": "execute_result",
          "data": {
            "text/plain": [
              "Unknown                     887\n",
              "Trinitario                  418\n",
              "Criollo                     153\n",
              "Forastero                    87\n",
              "Forastero (Nacional)         52\n",
              "Blend                        41\n",
              "Criollo, Trinitario          39\n",
              "Forastero (Arriba)           37\n",
              "Criollo (Porcelana)          10\n",
              "Trinitario, Criollo           9\n",
              "Forastero (Parazinho)         8\n",
              "Forastero (Arriba) ASS        6\n",
              "EET                           3\n",
              "Beniano                       3\n",
              "Matina                        3\n",
              "Nacional (Arriba)             3\n",
              "Trinitario (85% Criollo)      2\n",
              "Amazon, ICS                   2\n",
              "Trinitario, Forastero         2\n",
              "Amazon mix                    2\n",
              "Criollo (Ocumare 61)          2\n",
              "Forastero (Catongo)           2\n",
              "Criollo (Amarru)              2\n",
              "Criollo, Forastero            2\n",
              "Nacional                      2\n",
              "Amazon                        1\n",
              "Criollo (Ocumare)             1\n",
              "Forastero (Arriba) ASSS       1\n",
              "Trinitario (Scavina)          1\n",
              "Criollo, +                    1\n",
              "Blend-Forastero,Criollo       1\n",
              "Trinitario (Amelonado)        1\n",
              "Forastero (Amelonado)         1\n",
              "Trinitario, TCGA              1\n",
              "Criollo (Wild)                1\n",
              "Forastero, Trinitario         1\n",
              "CCN51                         1\n",
              "Criollo (Ocumare 77)          1\n",
              "Trinitario, Nacional          1\n",
              "Criollo (Ocumare 67)          1\n",
              "Forastero(Arriba, CCN)        1\n",
              "Name: Bean_type, dtype: int64"
            ]
          },
          "metadata": {},
          "execution_count": 30
        }
      ]
    },
    {
      "cell_type": "code",
      "metadata": {
        "id": "r81Ai3RJwZ_f",
        "colab": {
          "base_uri": "https://localhost:8080/"
        },
        "outputId": "1abad367-73f6-4a31-cdb2-d72f5ff4fc87"
      },
      "source": [
        "#Checking dataset again to see what we can plot\n",
        "df.info()"
      ],
      "execution_count": 31,
      "outputs": [
        {
          "output_type": "stream",
          "name": "stdout",
          "text": [
            "<class 'pandas.core.frame.DataFrame'>\n",
            "Int64Index: 1793 entries, 0 to 1794\n",
            "Data columns (total 8 columns):\n",
            " #   Column                         Non-Null Count  Dtype  \n",
            "---  ------                         --------------  -----  \n",
            " 0   Company(Maker)                 1793 non-null   object \n",
            " 1   Specific_Bean_Origin_Bar_Name  1793 non-null   object \n",
            " 2   REF                            1793 non-null   int64  \n",
            " 3   Cocoa_percent                  1793 non-null   float64\n",
            " 4   Company_location               1793 non-null   object \n",
            " 5   Rating                         1793 non-null   float64\n",
            " 6   Bean_type                      1793 non-null   object \n",
            " 7   Broad_Bean_Origin              1793 non-null   object \n",
            "dtypes: float64(2), int64(1), object(5)\n",
            "memory usage: 126.1+ KB\n"
          ]
        }
      ]
    },
    {
      "cell_type": "code",
      "metadata": {
        "colab": {
          "base_uri": "https://localhost:8080/",
          "height": 287
        },
        "id": "Psvnb9nakxIS",
        "outputId": "c3296a1b-f483-4e92-f2b2-dbe01cc8c8c0"
      },
      "source": [
        "#Correlation heatmap. Doesn't seem to be any correlation between the numerical data points\n",
        "sns.heatmap(df.corr(), annot=True)\n"
      ],
      "execution_count": 32,
      "outputs": [
        {
          "output_type": "execute_result",
          "data": {
            "text/plain": [
              "<matplotlib.axes._subplots.AxesSubplot at 0x7fefde20ab50>"
            ]
          },
          "metadata": {},
          "execution_count": 32
        },
        {
          "output_type": "display_data",
          "data": {
            "image/png": "[encoded data removed]",
            "text/plain": [
              "<Figure size 432x288 with 2 Axes>"
            ]
          },
          "metadata": {
            "needs_background": "light"
          }
        }
      ]
    },
    {
      "cell_type": "code",
      "metadata": {
        "id": "LsXPE4nak_3h"
      },
      "source": [
        "#Sorting the top rated bars to plot\n",
        "df = df.sort_values(by = ['Rating'],ascending = False)"
      ],
      "execution_count": 33,
      "outputs": []
    },
    {
      "cell_type": "code",
      "metadata": {
        "id": "gir0UcncnXM4"
      },
      "source": [
        "#Getting the top 10 rated bars\n",
        "top_10 = df[:10]"
      ],
      "execution_count": 34,
      "outputs": []
    },
    {
      "cell_type": "code",
      "metadata": {
        "colab": {
          "base_uri": "https://localhost:8080/",
          "height": 602
        },
        "id": "i7U8a-dDxbpD",
        "outputId": "adb55974-2744-4874-e68f-1f76c9f4d500"
      },
      "source": [
        "#Plotting the top 10 bars by Company\n",
        "\n",
        "plt.figure(figsize=(10,5))\n",
        "plot = sns.barplot(top_10['Company(Maker)'], top_10['Rating'])\n",
        "plt.xticks(\n",
        "    rotation=90, \n",
        "    horizontalalignment='right',\n",
        "    fontweight='light',\n",
        "    fontsize='x-large'  \n",
        ")\n"
      ],
      "execution_count": 35,
      "outputs": [
        {
          "output_type": "stream",
          "name": "stderr",
          "text": [
            "/usr/local/lib/python3.7/dist-packages/seaborn/_decorators.py:43: FutureWarning: Pass the following variables as keyword args: x, y. From version 0.12, the only valid positional argument will be `data`, and passing other arguments without an explicit keyword will result in an error or misinterpretation.\n",
            "  FutureWarning\n"
          ]
        },
        {
          "output_type": "execute_result",
          "data": {
            "text/plain": [
              "(array([0, 1, 2, 3, 4, 5, 6]), <a list of 7 Text major ticklabel objects>)"
            ]
          },
          "metadata": {},
          "execution_count": 35
        },
        {
          "output_type": "display_data",
          "data": {
            "image/png": "[encoded data removed]",
            "text/plain": [
              "<Figure size 720x360 with 1 Axes>"
            ]
          },
          "metadata": {
            "needs_background": "light"
          }
        }
      ]
    },
    {
      "cell_type": "code",
      "metadata": {
        "colab": {
          "base_uri": "https://localhost:8080/",
          "height": 282
        },
        "id": "b3IYL3X6xlmJ",
        "outputId": "5beb98d4-5e08-4db2-cfae-781fa0562465"
      },
      "source": [
        "#Checking the outliers within Rating. Looks like there are a couple. 5 data points\n",
        "df.boxplot(['Rating'])"
      ],
      "execution_count": 36,
      "outputs": [
        {
          "output_type": "execute_result",
          "data": {
            "text/plain": [
              "<matplotlib.axes._subplots.AxesSubplot at 0x7fefd4370290>"
            ]
          },
          "metadata": {},
          "execution_count": 36
        },
        {
          "output_type": "display_data",
          "data": {
            "image/png": "[encoded data removed]",
            "text/plain": [
              "<Figure size 432x288 with 1 Axes>"
            ]
          },
          "metadata": {
            "needs_background": "light"
          }
        }
      ]
    },
    {
      "cell_type": "code",
      "metadata": {
        "colab": {
          "base_uri": "https://localhost:8080/",
          "height": 283
        },
        "id": "7AN1ExlU20UR",
        "outputId": "50fc06cd-8577-4c7a-c800-ad8abc46ace9"
      },
      "source": [
        "df.boxplot(['Cocoa_percent'])\n",
        "# A lot more outliers here for coca percentage in the bars"
      ],
      "execution_count": 37,
      "outputs": [
        {
          "output_type": "execute_result",
          "data": {
            "text/plain": [
              "<matplotlib.axes._subplots.AxesSubplot at 0x7fefdecad910>"
            ]
          },
          "metadata": {},
          "execution_count": 37
        },
        {
          "output_type": "display_data",
          "data": {
            "image/png": "[encoded data removed]",
            "text/plain": [
              "<Figure size 432x288 with 1 Axes>"
            ]
          },
          "metadata": {
            "needs_background": "light"
          }
        }
      ]
    },
    {
      "cell_type": "code",
      "metadata": {
        "id": "_AZkqmth5IO5",
        "colab": {
          "base_uri": "https://localhost:8080/",
          "height": 279
        },
        "outputId": "4edd239f-4d1d-4499-9e49-5bfcd4c3f837"
      },
      "source": [
        "#Plotting a histogram to see the distribution of the Cocoa percentage also. Looks relatively normal\n",
        "sns.histplot(df['Cocoa_percent'], bins = 10, color = 'magenta') \n",
        "plt.ylabel('Count')\n",
        "plt.xlabel('Cocoa Percent');"
      ],
      "execution_count": 45,
      "outputs": [
        {
          "output_type": "display_data",
          "data": {
            "image/png": "[encoded data removed]",
            "text/plain": [
              "<Figure size 432x288 with 1 Axes>"
            ]
          },
          "metadata": {
            "needs_background": "light"
          }
        }
      ]
    },
    {
      "cell_type": "code",
      "metadata": {
        "id": "whxs0Y167k4J"
      },
      "source": [
        ""
      ],
      "execution_count": 37,
      "outputs": []
    }
  ]
}