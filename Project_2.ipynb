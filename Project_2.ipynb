{
  "nbformat": 4,
  "nbformat_minor": 0,
  "metadata": {
    "colab": {
      "name": "Project_2.ipynb",
      "provenance": [],
      "mount_file_id": "1h0D33-WLKmB95_eDtx_T_WKJ_u2qrO3g",
      "authorship_tag": "ABX9TyO1vjmv6b9QfrqB+comWCCS",
      "include_colab_link": true
    },
    "kernelspec": {
      "name": "python3",
      "display_name": "Python 3"
    },
    "language_info": {
      "name": "python"
    }
  },
  "cells": [
    {
      "cell_type": "markdown",
      "metadata": {
        "id": "view-in-github",
        "colab_type": "text"
      },
      "source": [
        "<a href=\"https://colab.research.google.com/github/thinkinchicken/Project-2/blob/main/Project_2.ipynb\" target=\"_parent\"><img src=\"https://colab.research.google.com/assets/colab-badge.svg\" alt=\"Open In Colab\"/></a>"
      ]
    },
    {
      "cell_type": "code",
      "metadata": {
        "id": "zuyPIclnaHmV"
      },
      "source": [
        "import pandas as pd\n"
      ],
      "execution_count": 1,
      "outputs": []
    },
    {
      "cell_type": "markdown",
      "metadata": {
        "id": "jwRRe-JphN1U"
      },
      "source": [
        "First Choice: Data set\n",
        "\n",
        "1) Source of Data: Kaggle\n",
        "\n",
        "2) 1700 individual chocolate bar ratings, regional origin, percentage of coca, and variety of chocolate bean, and region of where they were grown. \n",
        "\n",
        "3) Target is the rating of the chocolate bar\n",
        "\n",
        "4) This is a regression problem. \n",
        "\n",
        "5) 8 features\n",
        "\n",
        "6) 1795 rows\n",
        "\n",
        "7) Challenges is some columns have null values for certain features. May need some extra cleaning \n"
      ]
    },
    {
      "cell_type": "code",
      "metadata": {
        "colab": {
          "base_uri": "https://localhost:8080/"
        },
        "id": "Ja4JpJuhhMep",
        "outputId": "351e5d11-244a-4e6c-cdb0-80baef23d6b6"
      },
      "source": [
        "df = pd.read_csv('/content/drive/MyDrive/Colab Notebooks/07 Week 7: Classification Models/flavors_of_cacao.csv')\n",
        "df.shape"
      ],
      "execution_count": 10,
      "outputs": [
        {
          "output_type": "execute_result",
          "data": {
            "text/plain": [
              "(1795, 9)"
            ]
          },
          "metadata": {},
          "execution_count": 10
        }
      ]
    },
    {
      "cell_type": "code",
      "metadata": {
        "colab": {
          "base_uri": "https://localhost:8080/"
        },
        "id": "UnF3UkERh6e0",
        "outputId": "30b462fa-fb4e-4ca2-b447-2be84988cdd3"
      },
      "source": [
        "df.head()\n",
        "df['Bean\\nType'].value_counts()"
      ],
      "execution_count": 12,
      "outputs": [
        {
          "output_type": "execute_result",
          "data": {
            "text/plain": [
              "                            887\n",
              "Trinitario                  419\n",
              "Criollo                     153\n",
              "Forastero                    87\n",
              "Forastero (Nacional)         52\n",
              "Blend                        41\n",
              "Criollo, Trinitario          39\n",
              "Forastero (Arriba)           37\n",
              "Criollo (Porcelana)          10\n",
              "Trinitario, Criollo           9\n",
              "Forastero (Parazinho)         8\n",
              "Forastero (Arriba) ASS        6\n",
              "EET                           3\n",
              "Nacional (Arriba)             3\n",
              "Matina                        3\n",
              "Beniano                       3\n",
              "Trinitario, Forastero         2\n",
              "Nacional                      2\n",
              "Amazon mix                    2\n",
              "Criollo, Forastero            2\n",
              "Criollo (Amarru)              2\n",
              "Criollo (Ocumare 61)          2\n",
              "Forastero (Catongo)           2\n",
              "Trinitario (85% Criollo)      2\n",
              "Amazon, ICS                   2\n",
              "Amazon                        1\n",
              "CCN51                         1\n",
              "Criollo (Ocumare 77)          1\n",
              "Forastero, Trinitario         1\n",
              "Criollo, +                    1\n",
              "Trinitario (Amelonado)        1\n",
              "Forastero(Arriba, CCN)        1\n",
              "Criollo (Wild)                1\n",
              "Criollo (Ocumare 67)          1\n",
              "Criollo (Ocumare)             1\n",
              "Trinitario, TCGA              1\n",
              "Trinitario, Nacional          1\n",
              "Forastero (Amelonado)         1\n",
              "Trinitario (Scavina)          1\n",
              "Forastero (Arriba) ASSS       1\n",
              "Blend-Forastero,Criollo       1\n",
              "Name: Bean\\nType, dtype: int64"
            ]
          },
          "metadata": {},
          "execution_count": 12
        }
      ]
    },
    {
      "cell_type": "markdown",
      "metadata": {
        "id": "PGX9EMEafG8U"
      },
      "source": [
        "Second Choice: Data set 2\n",
        "\n",
        "1) Source of Data: Kaggle\n",
        "\n",
        "2) Data includes country, locality, market, goods purchased, price, currency used, quantity, and month/year of purchase of food prices worldwide\n",
        "\n",
        "3) Target is the price of the food\n",
        "\n",
        "4) This is a regression problem\n",
        "\n",
        "5) 10 features\n",
        "\n",
        "6) 743914 rows of data\n",
        "\n",
        "7) Challenges I foresee is that the dataset may need extra cleaning and there are also a lot of features that are necessarily numerical. \n",
        "It is a very large dataset that may also take a lot of time to train and test on. "
      ]
    },
    {
      "cell_type": "code",
      "metadata": {
        "colab": {
          "base_uri": "https://localhost:8080/",
          "height": 224
        },
        "id": "HBUWIvH1ev80",
        "outputId": "5f8f6e61-4c76-47d8-804f-182168314dc6"
      },
      "source": [
        "df2 = pd.read_csv('/content/drive/MyDrive/Colab Notebooks/07 Week 7: Classification Models/wfp_market_food_prices.csv',encoding='latin-1')\n",
        "df2.head()\n"
      ],
      "execution_count": 14,
      "outputs": [
        {
          "output_type": "execute_result",
          "data": {
            "text/html": [
              "<div>\n",
              "<style scoped>\n",
              "    .dataframe tbody tr th:only-of-type {\n",
              "        vertical-align: middle;\n",
              "    }\n",
              "\n",
              "    .dataframe tbody tr th {\n",
              "        vertical-align: top;\n",
              "    }\n",
              "\n",
              "    .dataframe thead th {\n",
              "        text-align: right;\n",
              "    }\n",
              "</style>\n",
              "<table border=\"1\" class=\"dataframe\">\n",
              "  <thead>\n",
              "    <tr style=\"text-align: right;\">\n",
              "      <th></th>\n",
              "      <th>adm0_id</th>\n",
              "      <th>adm0_name</th>\n",
              "      <th>adm1_id</th>\n",
              "      <th>adm1_name</th>\n",
              "      <th>mkt_id</th>\n",
              "      <th>mkt_name</th>\n",
              "      <th>cm_id</th>\n",
              "      <th>cm_name</th>\n",
              "      <th>cur_id</th>\n",
              "      <th>cur_name</th>\n",
              "      <th>pt_id</th>\n",
              "      <th>pt_name</th>\n",
              "      <th>um_id</th>\n",
              "      <th>um_name</th>\n",
              "      <th>mp_month</th>\n",
              "      <th>mp_year</th>\n",
              "      <th>mp_price</th>\n",
              "      <th>mp_commoditysource</th>\n",
              "    </tr>\n",
              "  </thead>\n",
              "  <tbody>\n",
              "    <tr>\n",
              "      <th>0</th>\n",
              "      <td>1</td>\n",
              "      <td>Afghanistan</td>\n",
              "      <td>272</td>\n",
              "      <td>Badakhshan</td>\n",
              "      <td>266</td>\n",
              "      <td>Fayzabad</td>\n",
              "      <td>55</td>\n",
              "      <td>Bread</td>\n",
              "      <td>87</td>\n",
              "      <td>AFN</td>\n",
              "      <td>15</td>\n",
              "      <td>Retail</td>\n",
              "      <td>5</td>\n",
              "      <td>KG</td>\n",
              "      <td>1</td>\n",
              "      <td>2014</td>\n",
              "      <td>50.0</td>\n",
              "      <td>WFP</td>\n",
              "    </tr>\n",
              "    <tr>\n",
              "      <th>1</th>\n",
              "      <td>1</td>\n",
              "      <td>Afghanistan</td>\n",
              "      <td>272</td>\n",
              "      <td>Badakhshan</td>\n",
              "      <td>266</td>\n",
              "      <td>Fayzabad</td>\n",
              "      <td>55</td>\n",
              "      <td>Bread</td>\n",
              "      <td>87</td>\n",
              "      <td>AFN</td>\n",
              "      <td>15</td>\n",
              "      <td>Retail</td>\n",
              "      <td>5</td>\n",
              "      <td>KG</td>\n",
              "      <td>2</td>\n",
              "      <td>2014</td>\n",
              "      <td>50.0</td>\n",
              "      <td>WFP</td>\n",
              "    </tr>\n",
              "    <tr>\n",
              "      <th>2</th>\n",
              "      <td>1</td>\n",
              "      <td>Afghanistan</td>\n",
              "      <td>272</td>\n",
              "      <td>Badakhshan</td>\n",
              "      <td>266</td>\n",
              "      <td>Fayzabad</td>\n",
              "      <td>55</td>\n",
              "      <td>Bread</td>\n",
              "      <td>87</td>\n",
              "      <td>AFN</td>\n",
              "      <td>15</td>\n",
              "      <td>Retail</td>\n",
              "      <td>5</td>\n",
              "      <td>KG</td>\n",
              "      <td>3</td>\n",
              "      <td>2014</td>\n",
              "      <td>50.0</td>\n",
              "      <td>WFP</td>\n",
              "    </tr>\n",
              "    <tr>\n",
              "      <th>3</th>\n",
              "      <td>1</td>\n",
              "      <td>Afghanistan</td>\n",
              "      <td>272</td>\n",
              "      <td>Badakhshan</td>\n",
              "      <td>266</td>\n",
              "      <td>Fayzabad</td>\n",
              "      <td>55</td>\n",
              "      <td>Bread</td>\n",
              "      <td>87</td>\n",
              "      <td>AFN</td>\n",
              "      <td>15</td>\n",
              "      <td>Retail</td>\n",
              "      <td>5</td>\n",
              "      <td>KG</td>\n",
              "      <td>4</td>\n",
              "      <td>2014</td>\n",
              "      <td>50.0</td>\n",
              "      <td>WFP</td>\n",
              "    </tr>\n",
              "    <tr>\n",
              "      <th>4</th>\n",
              "      <td>1</td>\n",
              "      <td>Afghanistan</td>\n",
              "      <td>272</td>\n",
              "      <td>Badakhshan</td>\n",
              "      <td>266</td>\n",
              "      <td>Fayzabad</td>\n",
              "      <td>55</td>\n",
              "      <td>Bread</td>\n",
              "      <td>87</td>\n",
              "      <td>AFN</td>\n",
              "      <td>15</td>\n",
              "      <td>Retail</td>\n",
              "      <td>5</td>\n",
              "      <td>KG</td>\n",
              "      <td>5</td>\n",
              "      <td>2014</td>\n",
              "      <td>50.0</td>\n",
              "      <td>WFP</td>\n",
              "    </tr>\n",
              "  </tbody>\n",
              "</table>\n",
              "</div>"
            ],
            "text/plain": [
              "   adm0_id    adm0_name  adm1_id  ... mp_year  mp_price mp_commoditysource\n",
              "0        1  Afghanistan      272  ...    2014      50.0                WFP\n",
              "1        1  Afghanistan      272  ...    2014      50.0                WFP\n",
              "2        1  Afghanistan      272  ...    2014      50.0                WFP\n",
              "3        1  Afghanistan      272  ...    2014      50.0                WFP\n",
              "4        1  Afghanistan      272  ...    2014      50.0                WFP\n",
              "\n",
              "[5 rows x 18 columns]"
            ]
          },
          "metadata": {},
          "execution_count": 14
        }
      ]
    },
    {
      "cell_type": "code",
      "metadata": {
        "colab": {
          "base_uri": "https://localhost:8080/"
        },
        "id": "BWJpZ0p6kHbl",
        "outputId": "7816367a-5960-4dc0-c2bf-f34be85fc99e"
      },
      "source": [
        "df2.shape"
      ],
      "execution_count": 15,
      "outputs": [
        {
          "output_type": "execute_result",
          "data": {
            "text/plain": [
              "(743914, 18)"
            ]
          },
          "metadata": {},
          "execution_count": 15
        }
      ]
    },
    {
      "cell_type": "code",
      "metadata": {
        "id": "DeQl-Rnbkkdj"
      },
      "source": [
        ""
      ],
      "execution_count": null,
      "outputs": []
    }
  ]
}